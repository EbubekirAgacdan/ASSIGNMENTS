{
 "cells": [
  {
   "cell_type": "markdown",
   "id": "1e3fd848",
   "metadata": {},
   "source": [
    "# Task 1 "
   ]
  },
  {
   "cell_type": "code",
   "execution_count": 8,
   "id": "785aa449",
   "metadata": {
    "scrolled": true
   },
   "outputs": [
    {
     "name": "stdout",
     "output_type": "stream",
     "text": [
      "Please enter a temperature value in Celsius(°C) :26\n",
      "78.8 °F\n"
     ]
    }
   ],
   "source": [
    "celsius = int(input(\"Please enter a temperature value in Celsius(°C) :\"))\n",
    "output = str(celsius * 9 / 5 + 32) + \" °F\"\n",
    "print(output)"
   ]
  },
  {
   "cell_type": "markdown",
   "id": "2a230a3a",
   "metadata": {},
   "source": [
    "# Task 2"
   ]
  },
  {
   "cell_type": "code",
   "execution_count": 9,
   "id": "dcf038a0",
   "metadata": {},
   "outputs": [
    {
     "name": "stdout",
     "output_type": "stream",
     "text": [
      "Please enter a distance value in kilometers(km):1\n",
      "0.6213 miles\n"
     ]
    }
   ],
   "source": [
    "kilometers = int(input(\"Please enter a distance value in kilometers(km):\"))\n",
    "output = str(kilometers * 0.6213) + \" miles\"\n",
    "print(output)"
   ]
  },
  {
   "cell_type": "code",
   "execution_count": null,
   "id": "d1c5a641",
   "metadata": {},
   "outputs": [],
   "source": []
  }
 ],
 "metadata": {
  "kernelspec": {
   "display_name": "Python 3",
   "language": "python",
   "name": "python3"
  },
  "language_info": {
   "codemirror_mode": {
    "name": "ipython",
    "version": 3
   },
   "file_extension": ".py",
   "mimetype": "text/x-python",
   "name": "python",
   "nbconvert_exporter": "python",
   "pygments_lexer": "ipython3",
   "version": "3.8.8"
  }
 },
 "nbformat": 4,
 "nbformat_minor": 5
}
