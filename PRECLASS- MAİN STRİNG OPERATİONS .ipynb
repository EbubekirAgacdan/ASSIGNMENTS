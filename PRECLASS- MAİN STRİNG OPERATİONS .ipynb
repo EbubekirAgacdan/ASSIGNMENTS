{
 "cells": [
  {
   "cell_type": "code",
   "execution_count": 1,
   "id": "55807dec",
   "metadata": {},
   "outputs": [
    {
     "name": "stdout",
     "output_type": "stream",
     "text": [
      "True\n",
      "False\n"
     ]
    }
   ],
   "source": [
    "text = 'www.clarusway.com'\n",
    "print(text.endswith('.com'))\n",
    "print(text.startswith('http:'))"
   ]
  },
  {
   "cell_type": "code",
   "execution_count": 2,
   "id": "f9a3789b",
   "metadata": {},
   "outputs": [
    {
     "name": "stdout",
     "output_type": "stream",
     "text": [
      "True\n",
      "True\n"
     ]
    }
   ],
   "source": [
    "text = 'www.clarusway.com'\n",
    "print(text.endswith('om'))\n",
    "print(text.startswith('w'))"
   ]
  },
  {
   "cell_type": "code",
   "execution_count": 13,
   "id": "ef1a73d5",
   "metadata": {},
   "outputs": [
    {
     "name": "stdout",
     "output_type": "stream",
     "text": [
      "True\n",
      "True\n",
      "True\n"
     ]
    }
   ],
   "source": [
    "email = \"clarusway@clarusway.com is my e-mail address\"\n",
    "print(email.startswith(\"@\", 9))\n",
    "print(email.endswith(\"-\", 10, 32))\n",
    "print(email.startswith(\"c\", 10))"
   ]
  },
  {
   "cell_type": "code",
   "execution_count": 19,
   "id": "ed96af63",
   "metadata": {},
   "outputs": [
    {
     "name": "stdout",
     "output_type": "stream",
     "text": [
      "28\n",
      "True\n",
      "False\n"
     ]
    }
   ],
   "source": [
    "phrase = \"myemailaddress@clarusway.com\"\n",
    "\n",
    "print(len(phrase))\n",
    "print(phrase.startswith(\"@\", 14))\n",
    "print(phrase.endswith(\".\", 15, 24))"
   ]
  },
  {
   "cell_type": "code",
   "execution_count": 20,
   "id": "6e8c364b",
   "metadata": {},
   "outputs": [
    {
     "name": "stdout",
     "output_type": "stream",
     "text": [
      "I LIVE AND WORK IN VIRGINIA\n",
      "i live and work in virginia\n",
      "i LIVE AND WORK IN vIRGINIA\n",
      "I live and work in Virginia\n"
     ]
    }
   ],
   "source": [
    "sentence = \"I live and work in Virginia\"\n",
    "\n",
    "print(sentence.upper())  \n",
    "\n",
    "print(sentence.lower())\n",
    "\n",
    "print(sentence.swapcase())\n",
    "\n",
    "print(sentence)  # note that, source text is unchanged"
   ]
  },
  {
   "cell_type": "code",
   "execution_count": 21,
   "id": "a6b92e72",
   "metadata": {},
   "outputs": [
    {
     "name": "stdout",
     "output_type": "stream",
     "text": [
      "I Live And Work In Virginia\n",
      "I l+ve and work +n V+rg+n+a\n",
      "I live and work in Virginia\n"
     ]
    }
   ],
   "source": [
    "sentence = \"I live and work in Virginia\"\n",
    "title_sentence = sentence.title() \n",
    "print(title_sentence)  \n",
    "\n",
    "changed_sentence = sentence.replace(\"i\", \"+\")\n",
    "print(changed_sentence)  \n",
    "\n",
    "print(sentence)  # note that, again source text is unchanged"
   ]
  },
  {
   "cell_type": "code",
   "execution_count": 22,
   "id": "e01cd935",
   "metadata": {},
   "outputs": [
    {
     "name": "stdout",
     "output_type": "stream",
     "text": [
      "i LIVE AND WORK IN vIRGINIA\n",
      "I live and work in virginia\n"
     ]
    }
   ],
   "source": [
    "sentence = \"I live and work in Virginia\"\n",
    "swap_case = sentence.swapcase()\n",
    "print(swap_case)\n",
    "print(swap_case.capitalize())  # changes 'i' to uppercase and\n",
    "# the rest to lowercase"
   ]
  },
  {
   "cell_type": "code",
   "execution_count": 26,
   "id": "6eb60a96",
   "metadata": {},
   "outputs": [
    {
     "name": "stdout",
     "output_type": "stream",
     "text": [
      "Actions speaks louder than words\n"
     ]
    }
   ],
   "source": [
    "text = \"Actions speaks louder than words\"\n",
    "print(text.upper().swapcase().capitalize())"
   ]
  },
  {
   "cell_type": "code",
   "execution_count": 38,
   "id": "56153dd1",
   "metadata": {},
   "outputs": [
    {
     "name": "stdout",
     "output_type": "stream",
     "text": [
      "listen first\n"
     ]
    }
   ],
   "source": [
    "space_string = \"     listen first      \"\n",
    "print(space_string.strip())  # removes all spaces from both sides( aradaki boşlukları kaldırmaz)\n",
    "# sadece boşluk değil istenilen karakteri kaldırır( sadece başta ve sondaki)"
   ]
  },
  {
   "cell_type": "code",
   "execution_count": 39,
   "id": "00f3b3c2",
   "metadata": {},
   "outputs": [
    {
     "name": "stdout",
     "output_type": "stream",
     "text": [
      "nteroperabilit\n"
     ]
    }
   ],
   "source": [
    "source_string = \"interoperability\"\n",
    "print(source_string.strip(\"yi\"))  \n",
    "# removes trailing \"y\" or \"i\" or \"yi\" or \"iy\" from both sides"
   ]
  },
  {
   "cell_type": "code",
   "execution_count": 1,
   "id": "1a19066c",
   "metadata": {},
   "outputs": [
    {
     "name": "stdout",
     "output_type": "stream",
     "text": [
      "clarusway2020\n"
     ]
    }
   ],
   "source": [
    "print(\"clarusway\" + \"2020\")"
   ]
  },
  {
   "cell_type": "code",
   "execution_count": 2,
   "id": "ada76940",
   "metadata": {},
   "outputs": [
    {
     "name": "stdout",
     "output_type": "stream",
     "text": [
      "clarusway2020\n"
     ]
    }
   ],
   "source": [
    "print(\"clarusway\" + str(2020))"
   ]
  },
  {
   "cell_type": "code",
   "execution_count": 5,
   "id": "edd527d2",
   "metadata": {},
   "outputs": [
    {
     "name": "stdout",
     "output_type": "stream",
     "text": [
      "16\n"
     ]
    }
   ],
   "source": [
    "x = 12\n",
    "y = x + 21\n",
    "x = 2\n",
    "print(y//x)"
   ]
  },
  {
   "cell_type": "code",
   "execution_count": 6,
   "id": "6c3b352f",
   "metadata": {},
   "outputs": [
    {
     "name": "stdout",
     "output_type": "stream",
     "text": [
      "2020\n"
     ]
    }
   ],
   "source": [
    "number = \"32\"\n",
    "print(1988 + int(number))"
   ]
  },
  {
   "cell_type": "code",
   "execution_count": 7,
   "id": "25fe5411",
   "metadata": {},
   "outputs": [
    {
     "name": "stdout",
     "output_type": "stream",
     "text": [
      "True\n"
     ]
    }
   ],
   "source": [
    "print(not 0 or None)"
   ]
  },
  {
   "cell_type": "code",
   "execution_count": 9,
   "id": "0862e7e2",
   "metadata": {},
   "outputs": [
    {
     "name": "stdout",
     "output_type": "stream",
     "text": [
      "False\n"
     ]
    }
   ],
   "source": [
    "print([] or {0} and False)"
   ]
  },
  {
   "cell_type": "code",
   "execution_count": 10,
   "id": "778edf48",
   "metadata": {},
   "outputs": [
    {
     "name": "stdout",
     "output_type": "stream",
     "text": [
      "[]\n"
     ]
    }
   ],
   "source": [
    "print(False or {0} and [])"
   ]
  },
  {
   "cell_type": "code",
   "execution_count": 16,
   "id": "92c6d8fc",
   "metadata": {},
   "outputs": [
    {
     "name": "stdout",
     "output_type": "stream",
     "text": [
      "Enter a number:2\n",
      "140140.0\n"
     ]
    }
   ],
   "source": [
    "print(float(\"140\" * int(input(\"Enter a number:\" ))))"
   ]
  },
  {
   "cell_type": "code",
   "execution_count": 18,
   "id": "b6e36ca2",
   "metadata": {},
   "outputs": [
    {
     "name": "stdout",
     "output_type": "stream",
     "text": [
      "The less you sleep and eat, the better your life will be.\n"
     ]
    }
   ],
   "source": [
    "var1 = \"sleep\"\n",
    "var2 = \"eat\"\n",
    "var3 = \"better\"\n",
    "var4 = \"life\"\n",
    "text = f\"The less you {var1} and {var2}, the {var3} your {var4} will be.\"\n",
    "print(text)"
   ]
  },
  {
   "cell_type": "code",
   "execution_count": 22,
   "id": "b5620dc3",
   "metadata": {},
   "outputs": [
    {
     "name": "stdout",
     "output_type": "stream",
     "text": [
      "I live in Sarajevo.\n"
     ]
    }
   ],
   "source": [
    "city = \"SARAJEVO\"\n",
    "text = f\"I live in {city.capitalize()}.\"\n",
    "print(text)"
   ]
  },
  {
   "cell_type": "code",
   "execution_count": 23,
   "id": "1c3852ff",
   "metadata": {},
   "outputs": [
    {
     "name": "stdout",
     "output_type": "stream",
     "text": [
      "Clarusway, Clarusway, Clarusway, \n",
      "\tClarusway, Clarusway, Clarusway, \n",
      "\t\tClarusway, Clarusway, Clarusway\n"
     ]
    }
   ],
   "source": [
    "text = \"Clarusway, Clarusway, Clarusway, \\n\\tClarusway, Clarusway, Clarusway, \\n\\t\\tClarusway, Clarusway, Clarusway\"\n",
    "print(text)"
   ]
  },
  {
   "cell_type": "code",
   "execution_count": null,
   "id": "ab64fc4e",
   "metadata": {},
   "outputs": [],
   "source": []
  }
 ],
 "metadata": {
  "kernelspec": {
   "display_name": "Python 3",
   "language": "python",
   "name": "python3"
  },
  "language_info": {
   "codemirror_mode": {
    "name": "ipython",
    "version": 3
   },
   "file_extension": ".py",
   "mimetype": "text/x-python",
   "name": "python",
   "nbconvert_exporter": "python",
   "pygments_lexer": "ipython3",
   "version": "3.8.8"
  }
 },
 "nbformat": 4,
 "nbformat_minor": 5
}
