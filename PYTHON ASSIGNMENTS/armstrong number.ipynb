{
 "cells": [
  {
   "cell_type": "code",
   "execution_count": 3,
   "metadata": {},
   "outputs": [
    {
     "name": "stdout",
     "output_type": "stream",
     "text": [
      "371 is an Armstrong number\n"
     ]
    }
   ],
   "source": [
    "num = input(\"Please enter a positive integer number : \")\n",
    "if num.isdigit() :\n",
    "    num.split()\n",
    "    b=0\n",
    "    for i in range(len(num)) :\n",
    "        b+=int(num[i])**len(num)\n",
    "    if b==int(num):\n",
    "        print(num, \"is an Armstrong number\")\n",
    "    else:\n",
    "        print(num, \"is not an Armstrong number\")\n",
    "else:\n",
    "    print(\"It is an invalid entry. Don't use non-numeric, float, or negative values!\")"
   ]
  },
  {
   "cell_type": "code",
   "execution_count": 4,
   "metadata": {},
   "outputs": [
    {
     "name": "stdout",
     "output_type": "stream",
     "text": [
      "0 is an Armstrong number\n"
     ]
    }
   ],
   "source": [
    "while True:\n",
    "    num = input(\"Please enter a positive integer number : \")\n",
    "    if num.isdigit() :\n",
    "        num.split()\n",
    "        b=0\n",
    "        for i in range(len(num)) :\n",
    "            b+=int(num[i])**len(num)\n",
    "        if b==int(num):\n",
    "            print(num, \"is an Armstrong number\")\n",
    "        else:\n",
    "            print(num, \"is not an Armstrong number\")\n",
    "        break\n",
    "    else:\n",
    "        print(\"It is an invalid entry. Don't use non-numeric, float, or negative values!\")"
   ]
  },
  {
   "cell_type": "code",
   "execution_count": 5,
   "metadata": {},
   "outputs": [
    {
     "name": "stdout",
     "output_type": "stream",
     "text": [
      "lütfen adamakıllı girin\n",
      "lütfen adamakıllı girin\n",
      "371 armstrong numara\n"
     ]
    }
   ],
   "source": [
    "while True:\n",
    "    numara = input(\"sayı giriniz:\")\n",
    "    numara.split()\n",
    "    a = 0\n",
    "    if numara.isdigit():\n",
    "        for i in range(len(numara)):    \n",
    "            a+=int(numara[i])**len(numara)\n",
    "        if int(numara)==a:\n",
    "            print(numara,\"armstrong numara\")\n",
    "        else:\n",
    "            print(numara,\"armstrong numara değil\")\n",
    "        break\n",
    "    else:\n",
    "        print(\"lütfen adamakıllı girin\")\n",
    "    "
   ]
  }
 ],
 "metadata": {
  "interpreter": {
   "hash": "445e6ade3c4bc3514364a042a5013135907c40fd1b151b894b401571d86d4848"
  },
  "kernelspec": {
   "display_name": "Python 3.10.1 64-bit",
   "language": "python",
   "name": "python3"
  },
  "language_info": {
   "codemirror_mode": {
    "name": "ipython",
    "version": 3
   },
   "file_extension": ".py",
   "mimetype": "text/x-python",
   "name": "python",
   "nbconvert_exporter": "python",
   "pygments_lexer": "ipython3",
   "version": "3.10.1"
  },
  "orig_nbformat": 4
 },
 "nbformat": 4,
 "nbformat_minor": 2
}
