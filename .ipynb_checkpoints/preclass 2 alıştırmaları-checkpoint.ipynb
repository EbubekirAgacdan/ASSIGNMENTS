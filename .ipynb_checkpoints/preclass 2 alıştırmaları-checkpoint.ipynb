{
 "cells": [
  {
   "cell_type": "code",
   "execution_count": 1,
   "metadata": {
    "colab": {
     "base_uri": "https://localhost:8080/"
    },
    "executionInfo": {
     "elapsed": 9,
     "status": "ok",
     "timestamp": 1632743876101,
     "user": {
      "displayName": "Ebubekir Ağaçdan",
      "photoUrl": "https://lh3.googleusercontent.com/a/default-user=s64",
      "userId": "12547453896384896572"
     },
     "user_tz": -180
    },
    "id": "h-7IQAX6HZV6",
    "outputId": "fededcc7-43c6-4c6c-f94f-0df9bb63c722"
   },
   "outputs": [
    {
     "name": "stdout",
     "output_type": "stream",
     "text": [
      "<class 'str'>\n"
     ]
    }
   ],
   "source": [
    "example2 = '71'\n",
    "print(type(example2))\n"
   ]
  },
  {
   "cell_type": "code",
   "execution_count": 3,
   "metadata": {
    "colab": {
     "base_uri": "https://localhost:8080/"
    },
    "executionInfo": {
     "elapsed": 478,
     "status": "ok",
     "timestamp": 1632744042273,
     "user": {
      "displayName": "Ebubekir Ağaçdan",
      "photoUrl": "https://lh3.googleusercontent.com/a/default-user=s64",
      "userId": "12547453896384896572"
     },
     "user_tz": -180
    },
    "id": "02mZMlDtIKil",
    "outputId": "707dd695-7686-481c-a1b6-380a6a00a5b0"
   },
   "outputs": [
    {
     "name": "stdout",
     "output_type": "stream",
     "text": [
      "<class 'float'>\n"
     ]
    }
   ],
   "source": [
    "example4 = 71.0\n",
    "print(type(example4))"
   ]
  },
  {
   "cell_type": "code",
   "execution_count": 2,
   "metadata": {
    "colab": {
     "base_uri": "https://localhost:8080/"
    },
    "executionInfo": {
     "elapsed": 257,
     "status": "ok",
     "timestamp": 1632744015228,
     "user": {
      "displayName": "Ebubekir Ağaçdan",
      "photoUrl": "https://lh3.googleusercontent.com/a/default-user=s64",
      "userId": "12547453896384896572"
     },
     "user_tz": -180
    },
    "id": "w28PeS8RIHEf",
    "outputId": "aac47057-5b1b-4f21-800e-5ba59d7a2b7b"
   },
   "outputs": [
    {
     "name": "stdout",
     "output_type": "stream",
     "text": [
      "<class 'int'>\n"
     ]
    }
   ],
   "source": [
    "example3 = 71\n",
    "print(type(example3))\n"
   ]
  },
  {
   "cell_type": "code",
   "execution_count": 4,
   "metadata": {
    "colab": {
     "base_uri": "https://localhost:8080/"
    },
    "executionInfo": {
     "elapsed": 233,
     "status": "ok",
     "timestamp": 1632744116363,
     "user": {
      "displayName": "Ebubekir Ağaçdan",
      "photoUrl": "https://lh3.googleusercontent.com/a/default-user=s64",
      "userId": "12547453896384896572"
     },
     "user_tz": -180
    },
    "id": "W7vKu93nIQV7",
    "outputId": "7ae6b2b3-5cb9-4929-91e4-5cf23c3b4c6f"
   },
   "outputs": [
    {
     "name": "stdout",
     "output_type": "stream",
     "text": [
      "<class 'complex'>\n"
     ]
    }
   ],
   "source": [
    "example5 = 3.14j\n",
    "print(type(example5))"
   ]
  },
  {
   "cell_type": "code",
   "execution_count": 6,
   "metadata": {
    "colab": {
     "base_uri": "https://localhost:8080/"
    },
    "executionInfo": {
     "elapsed": 225,
     "status": "ok",
     "timestamp": 1632744185556,
     "user": {
      "displayName": "Ebubekir Ağaçdan",
      "photoUrl": "https://lh3.googleusercontent.com/a/default-user=s64",
      "userId": "12547453896384896572"
     },
     "user_tz": -180
    },
    "id": "kTnvf0zpIg46",
    "outputId": "27cc21e5-a36d-4052-a980-49314860b34d"
   },
   "outputs": [
    {
     "name": "stdout",
     "output_type": "stream",
     "text": [
      "<class 'bool'>\n"
     ]
    }
   ],
   "source": [
    "example6 = True\n",
    "print(type(example6))"
   ]
  },
  {
   "cell_type": "code",
   "execution_count": 7,
   "metadata": {
    "colab": {
     "base_uri": "https://localhost:8080/"
    },
    "executionInfo": {
     "elapsed": 225,
     "status": "ok",
     "timestamp": 1632744433965,
     "user": {
      "displayName": "Ebubekir Ağaçdan",
      "photoUrl": "https://lh3.googleusercontent.com/a/default-user=s64",
      "userId": "12547453896384896572"
     },
     "user_tz": -180
    },
    "id": "1_brqtdhIz-G",
    "outputId": "4fcb09e7-9c70-41c0-b832-bc229ef68b59"
   },
   "outputs": [
    {
     "name": "stdout",
     "output_type": "stream",
     "text": [
      "<class 'float'>\n"
     ]
    }
   ],
   "source": [
    "f = 3.14  # the type is float\n",
    "print(type(f))"
   ]
  },
  {
   "cell_type": "code",
   "execution_count": 11,
   "metadata": {
    "colab": {
     "base_uri": "https://localhost:8080/"
    },
    "executionInfo": {
     "elapsed": 226,
     "status": "ok",
     "timestamp": 1632744578732,
     "user": {
      "displayName": "Ebubekir Ağaçdan",
      "photoUrl": "https://lh3.googleusercontent.com/a/default-user=s64",
      "userId": "12547453896384896572"
     },
     "user_tz": -180
    },
    "id": "by4nSf8nIs6e",
    "outputId": "bce488d8-d85e-4b00-babc-5a071d1f45c9"
   },
   "outputs": [
    {
     "name": "stdout",
     "output_type": "stream",
     "text": [
      "<class 'str'>\n"
     ]
    }
   ],
   "source": [
    "f = 3.14  # the type is float\n",
    "s = str(f)  #converting float to string \n",
    "print(type(s))"
   ]
  },
  {
   "cell_type": "code",
   "execution_count": 20,
   "metadata": {
    "colab": {
     "base_uri": "https://localhost:8080/"
    },
    "executionInfo": {
     "elapsed": 243,
     "status": "ok",
     "timestamp": 1632745370198,
     "user": {
      "displayName": "Ebubekir Ağaçdan",
      "photoUrl": "https://lh3.googleusercontent.com/a/default-user=s64",
      "userId": "12547453896384896572"
     },
     "user_tz": -180
    },
    "id": "E5v90aXPKS_k",
    "outputId": "60e61151-5d86-4350-db05-064b840bceda"
   },
   "outputs": [
    {
     "name": "stdout",
     "output_type": "stream",
     "text": [
      "3 \n",
      "\n",
      "<class 'int'>\n",
      "3\n",
      "3 \n",
      "\n",
      "3\n"
     ]
    }
   ],
   "source": [
    "f = 3.14  # the type is float\n",
    "i = int(f)  # while converting a float value to an integer its decimal part is disregarded\n",
    "print(i, '\\n')\n",
    "print(type(i))\n",
    "print(i)\n",
    "print(i, '\\n')\n",
    "print(i)"
   ]
  },
  {
   "cell_type": "code",
   "execution_count": 16,
   "metadata": {
    "colab": {
     "base_uri": "https://localhost:8080/"
    },
    "executionInfo": {
     "elapsed": 254,
     "status": "ok",
     "timestamp": 1632745084458,
     "user": {
      "displayName": "Ebubekir Ağaçdan",
      "photoUrl": "https://lh3.googleusercontent.com/a/default-user=s64",
      "userId": "12547453896384896572"
     },
     "user_tz": -180
    },
    "id": "RJ3WuwtaLnyp",
    "outputId": "25e27f90-3afc-48da-bf9e-7c0e20f485a1"
   },
   "outputs": [
    {
     "name": "stdout",
     "output_type": "stream",
     "text": [
      "3.0 \n",
      "\n",
      "<class 'float'>\n",
      "<class 'int'>\n"
     ]
    }
   ],
   "source": [
    "i = 3\n",
    "f = float(i)\n",
    "print(f, '\\n')\n",
    "print(type(f))\n",
    "print(type(i))"
   ]
  },
  {
   "cell_type": "code",
   "execution_count": 17,
   "metadata": {
    "colab": {
     "base_uri": "https://localhost:8080/"
    },
    "executionInfo": {
     "elapsed": 238,
     "status": "ok",
     "timestamp": 1632745226173,
     "user": {
      "displayName": "Ebubekir Ağaçdan",
      "photoUrl": "https://lh3.googleusercontent.com/a/default-user=s64",
      "userId": "12547453896384896572"
     },
     "user_tz": -180
    },
    "id": "OsCelNJoMdsa",
    "outputId": "33b4739d-2d39-4a75-94d5-06c1bebe0478"
   },
   "outputs": [
    {
     "name": "stdout",
     "output_type": "stream",
     "text": [
      "<class 'complex'>\n"
     ]
    }
   ],
   "source": [
    "x = 3.25j\n",
    "print(type(x))"
   ]
  },
  {
   "cell_type": "code",
   "execution_count": 33,
   "metadata": {
    "colab": {
     "base_uri": "https://localhost:8080/"
    },
    "executionInfo": {
     "elapsed": 242,
     "status": "ok",
     "timestamp": 1632746409691,
     "user": {
      "displayName": "Ebubekir Ağaçdan",
      "photoUrl": "https://lh3.googleusercontent.com/a/default-user=s64",
      "userId": "12547453896384896572"
     },
     "user_tz": -180
    },
    "id": "hPn-Qr0nPMeQ",
    "outputId": "5eac4cd1-b356-4fad-b795-ce92208c45bd"
   },
   "outputs": [
    {
     "name": "stdout",
     "output_type": "stream",
     "text": [
      "28\n",
      "2\n",
      "37\n"
     ]
    }
   ],
   "source": [
    "x = 39\n",
    "v = \"11\"\n",
    "y = \"2.5\"\n",
    "z = \"I'am at_\"\n",
    "print(x-int(v))\n",
    "a = float(y)\n",
    "b = int(a)\n",
    "print(b)\n",
    "print(x-b)"
   ]
  },
  {
   "cell_type": "code",
   "execution_count": 28,
   "metadata": {
    "colab": {
     "base_uri": "https://localhost:8080/"
    },
    "executionInfo": {
     "elapsed": 5,
     "status": "ok",
     "timestamp": 1632746047965,
     "user": {
      "displayName": "Ebubekir Ağaçdan",
      "photoUrl": "https://lh3.googleusercontent.com/a/default-user=s64",
      "userId": "12547453896384896572"
     },
     "user_tz": -180
    },
    "id": "Eg5gwTIpPySx",
    "outputId": "587e6e2a-6a2e-48be-9e1a-849151f097c8"
   },
   "outputs": [
    {
     "name": "stdout",
     "output_type": "stream",
     "text": [
      "36.5\n"
     ]
    }
   ],
   "source": [
    "print(x-float(y))"
   ]
  },
  {
   "cell_type": "code",
   "execution_count": 29,
   "metadata": {
    "colab": {
     "base_uri": "https://localhost:8080/"
    },
    "executionInfo": {
     "elapsed": 252,
     "status": "ok",
     "timestamp": 1632746080442,
     "user": {
      "displayName": "Ebubekir Ağaçdan",
      "photoUrl": "https://lh3.googleusercontent.com/a/default-user=s64",
      "userId": "12547453896384896572"
     },
     "user_tz": -180
    },
    "id": "zibx5RJeP4eg",
    "outputId": "4fa2a233-eb93-49d6-fe19-121662055cfc"
   },
   "outputs": [
    {
     "name": "stdout",
     "output_type": "stream",
     "text": [
      "I'am at_39\n"
     ]
    }
   ],
   "source": [
    "print(z+str(x))"
   ]
  },
  {
   "cell_type": "code",
   "execution_count": 31,
   "metadata": {
    "colab": {
     "base_uri": "https://localhost:8080/"
    },
    "executionInfo": {
     "elapsed": 232,
     "status": "ok",
     "timestamp": 1632746136600,
     "user": {
      "displayName": "Ebubekir Ağaçdan",
      "photoUrl": "https://lh3.googleusercontent.com/a/default-user=s64",
      "userId": "12547453896384896572"
     },
     "user_tz": -180
    },
    "id": "TSnBOULWQAZY",
    "outputId": "9398df23-0b22-4d56-d8a7-48988204e1b8"
   },
   "outputs": [
    {
     "name": "stdout",
     "output_type": "stream",
     "text": [
      "I'am at_2.5\n"
     ]
    }
   ],
   "source": [
    "print(z+y)"
   ]
  },
  {
   "cell_type": "code",
   "execution_count": 36,
   "metadata": {
    "colab": {
     "base_uri": "https://localhost:8080/"
    },
    "executionInfo": {
     "elapsed": 238,
     "status": "ok",
     "timestamp": 1632747061663,
     "user": {
      "displayName": "Ebubekir Ağaçdan",
      "photoUrl": "https://lh3.googleusercontent.com/a/default-user=s64",
      "userId": "12547453896384896572"
     },
     "user_tz": -180
    },
    "id": "n0476LN4QKRF",
    "outputId": "5a4361ec-34e8-4955-9185-fff08b22b98d"
   },
   "outputs": [
    {
     "name": "stdout",
     "output_type": "stream",
     "text": [
      "70.0 F is enough for room temperature.\n"
     ]
    }
   ],
   "source": [
    "a = 36.5\n",
    "b = '30'\n",
    "c = '3.5'\n",
    "d = ' F is enough for room temperature.'\n",
    "print(str(a+int(b)+float(c))+d)"
   ]
  },
  {
   "cell_type": "code",
   "execution_count": 39,
   "metadata": {
    "colab": {
     "base_uri": "https://localhost:8080/"
    },
    "executionInfo": {
     "elapsed": 240,
     "status": "ok",
     "timestamp": 1632747433484,
     "user": {
      "displayName": "Ebubekir Ağaçdan",
      "photoUrl": "https://lh3.googleusercontent.com/a/default-user=s64",
      "userId": "12547453896384896572"
     },
     "user_tz": -180
    },
    "id": "YhzssRI6ToCO",
    "outputId": "b381b0ab-9250-4083-bd3e-7db1c7feb7da"
   },
   "outputs": [
    {
     "name": "stdout",
     "output_type": "stream",
     "text": [
      "blue, 100, winter\n"
     ]
    }
   ],
   "source": [
    "color = 'red'  # str type variable\n",
    "season = 'summer'\n",
    "price = 250  # int type variable\n",
    "pi = 3.14  # float type variable\n",
    "color = 'blue'  # You can always assign a new value to a created variable\n",
    "price = 100  # value of 'price' is changed\n",
    "season = 'winter'  \n",
    "print(color, price, season, sep=', ')"
   ]
  },
  {
   "cell_type": "code",
   "execution_count": 44,
   "metadata": {
    "colab": {
     "base_uri": "https://localhost:8080/"
    },
    "executionInfo": {
     "elapsed": 245,
     "status": "ok",
     "timestamp": 1632748258973,
     "user": {
      "displayName": "Ebubekir Ağaçdan",
      "photoUrl": "https://lh3.googleusercontent.com/a/default-user=s64",
      "userId": "12547453896384896572"
     },
     "user_tz": -180
    },
    "id": "NpFqy_kMU772",
    "outputId": "d142e356-fde7-48fd-d74a-61cc0b9a51b4"
   },
   "outputs": [
    {
     "name": "stdout",
     "output_type": "stream",
     "text": [
      "5, 5, 5\n"
     ]
    }
   ],
   "source": [
    "c = 5\n",
    "a = 55\n",
    "b = 555\n",
    "a = c  # buradaki tanımlamalara göre aşağıdan yukarı doğru hangi sonucu yazacağını bulmaya çalışır örn: b yi bulurken b=a,a=c sonuç=c\n",
    "b = a\n",
    "c = b\n",
    "print(b, c, a, sep=', ')\n"
   ]
  },
  {
   "cell_type": "code",
   "execution_count": null,
   "metadata": {
    "id": "4bURaPDhXAJY"
   },
   "outputs": [],
   "source": [
    "\n",
    "z = y\n",
    "y = x\n",
    "x = z"
   ]
  },
  {
   "cell_type": "code",
   "execution_count": 1,
   "metadata": {
    "colab": {
     "base_uri": "https://localhost:8080/"
    },
    "executionInfo": {
     "elapsed": 263,
     "status": "ok",
     "timestamp": 1632759025616,
     "user": {
      "displayName": "Ebubekir Ağaçdan",
      "photoUrl": "https://lh3.googleusercontent.com/a/default-user=s64",
      "userId": "12547453896384896572"
     },
     "user_tz": -180
    },
    "id": "sIxfJ5kFBUNm",
    "outputId": "3cbacd12-c624-4674-cbd7-d43e7ac17e16"
   },
   "outputs": [
    {
     "name": "stdout",
     "output_type": "stream",
     "text": [
      "15\n"
     ]
    }
   ],
   "source": [
    "print(4 + 11)"
   ]
  },
  {
   "cell_type": "code",
   "execution_count": 3,
   "metadata": {
    "colab": {
     "base_uri": "https://localhost:8080/"
    },
    "executionInfo": {
     "elapsed": 250,
     "status": "ok",
     "timestamp": 1632759095372,
     "user": {
      "displayName": "Ebubekir Ağaçdan",
      "photoUrl": "https://lh3.googleusercontent.com/a/default-user=s64",
      "userId": "12547453896384896572"
     },
     "user_tz": -180
    },
    "id": "7ecFUWjtBY1H",
    "outputId": "acd6028d-02ef-400f-e304-2ebdd1b72d65"
   },
   "outputs": [
    {
     "name": "stdout",
     "output_type": "stream",
     "text": [
      "40.0\n"
     ]
    }
   ],
   "source": [
    "print(39 + 1.0)  #sum of an integer and float gives float"
   ]
  },
  {
   "cell_type": "code",
   "execution_count": 4,
   "metadata": {
    "colab": {
     "base_uri": "https://localhost:8080/"
    },
    "executionInfo": {
     "elapsed": 260,
     "status": "ok",
     "timestamp": 1632759171215,
     "user": {
      "displayName": "Ebubekir Ağaçdan",
      "photoUrl": "https://lh3.googleusercontent.com/a/default-user=s64",
      "userId": "12547453896384896572"
     },
     "user_tz": -180
    },
    "id": "nNgHyaRKBg2m",
    "outputId": "7a331553-2a34-4aec-dfda-17f1e4f3da9e"
   },
   "outputs": [
    {
     "name": "stdout",
     "output_type": "stream",
     "text": [
      "-6\n"
     ]
    }
   ],
   "source": [
    "no1, no2 = 46, 52\n",
    "no3 = no1 - no2\n",
    "print(no3)"
   ]
  },
  {
   "cell_type": "code",
   "execution_count": 5,
   "metadata": {
    "colab": {
     "base_uri": "https://localhost:8080/"
    },
    "executionInfo": {
     "elapsed": 252,
     "status": "ok",
     "timestamp": 1632759291987,
     "user": {
      "displayName": "Ebubekir Ağaçdan",
      "photoUrl": "https://lh3.googleusercontent.com/a/default-user=s64",
      "userId": "12547453896384896572"
     },
     "user_tz": -180
    },
    "id": "0Rz18XQDCCrM",
    "outputId": "722b2cb2-2735-4d18-f6cd-91cd37c9c038"
   },
   "outputs": [
    {
     "name": "stdout",
     "output_type": "stream",
     "text": [
      "2.0\n"
     ]
    }
   ],
   "source": [
    "no1 = 46\n",
    "print(no1/23)  #division gives float"
   ]
  },
  {
   "cell_type": "code",
   "execution_count": 7,
   "metadata": {
    "colab": {
     "base_uri": "https://localhost:8080/"
    },
    "executionInfo": {
     "elapsed": 252,
     "status": "ok",
     "timestamp": 1632759477993,
     "user": {
      "displayName": "Ebubekir Ağaçdan",
      "photoUrl": "https://lh3.googleusercontent.com/a/default-user=s64",
      "userId": "12547453896384896572"
     },
     "user_tz": -180
    },
    "id": "xfXb43DbB8YL",
    "outputId": "8da8dacb-0138-42b3-e08f-3cf9cd9139c3"
   },
   "outputs": [
    {
     "name": "stdout",
     "output_type": "stream",
     "text": [
      "6.0\n"
     ]
    }
   ],
   "source": [
    "print((3*4)/2)  # parentheses are used as in normal mathematics operation"
   ]
  },
  {
   "cell_type": "code",
   "execution_count": 8,
   "metadata": {
    "colab": {
     "base_uri": "https://localhost:8080/"
    },
    "executionInfo": {
     "elapsed": 281,
     "status": "ok",
     "timestamp": 1632759498933,
     "user": {
      "displayName": "Ebubekir Ağaçdan",
      "photoUrl": "https://lh3.googleusercontent.com/a/default-user=s64",
      "userId": "12547453896384896572"
     },
     "user_tz": -180
    },
    "id": "eZIIsyeWCx2_",
    "outputId": "f8688af6-d277-40d0-97ae-233eaa154e25"
   },
   "outputs": [
    {
     "name": "stdout",
     "output_type": "stream",
     "text": [
      "3\n"
     ]
    }
   ],
   "source": [
    "print(7 // 2)  # it gives integer part of division"
   ]
  },
  {
   "cell_type": "code",
   "execution_count": 9,
   "metadata": {
    "colab": {
     "base_uri": "https://localhost:8080/"
    },
    "executionInfo": {
     "elapsed": 266,
     "status": "ok",
     "timestamp": 1632759519093,
     "user": {
      "displayName": "Ebubekir Ağaçdan",
      "photoUrl": "https://lh3.googleusercontent.com/a/default-user=s64",
      "userId": "12547453896384896572"
     },
     "user_tz": -180
    },
    "id": "GQoGgxSDDMYR",
    "outputId": "0ae91470-d687-47af-fc16-3e9f9b70dee7"
   },
   "outputs": [
    {
     "name": "stdout",
     "output_type": "stream",
     "text": [
      "3.5\n"
     ]
    }
   ],
   "source": [
    "print(7/2)"
   ]
  },
  {
   "cell_type": "code",
   "execution_count": 11,
   "metadata": {
    "colab": {
     "base_uri": "https://localhost:8080/"
    },
    "executionInfo": {
     "elapsed": 266,
     "status": "ok",
     "timestamp": 1632759652119,
     "user": {
      "displayName": "Ebubekir Ağaçdan",
      "photoUrl": "https://lh3.googleusercontent.com/a/default-user=s64",
      "userId": "12547453896384896572"
     },
     "user_tz": -180
    },
    "id": "t7CDuIRjDRTc",
    "outputId": "63353550-ae7b-400b-96b9-b264cf4553a2"
   },
   "outputs": [
    {
     "name": "stdout",
     "output_type": "stream",
     "text": [
      "1\n"
     ]
    }
   ],
   "source": [
    "print(9 % 2)  # remainder of this division 1\n",
    "# it means 9 is an odd number"
   ]
  },
  {
   "cell_type": "code",
   "execution_count": 12,
   "metadata": {
    "colab": {
     "base_uri": "https://localhost:8080/"
    },
    "executionInfo": {
     "elapsed": 267,
     "status": "ok",
     "timestamp": 1632759672512,
     "user": {
      "displayName": "Ebubekir Ağaçdan",
      "photoUrl": "https://lh3.googleusercontent.com/a/default-user=s64",
      "userId": "12547453896384896572"
     },
     "user_tz": -180
    },
    "id": "vFAiMXy2DeJI",
    "outputId": "5099e13a-591d-406b-837e-67b5b498ed37"
   },
   "outputs": [
    {
     "name": "stdout",
     "output_type": "stream",
     "text": [
      "4\n"
     ]
    }
   ],
   "source": [
    "print(9%5)"
   ]
  },
  {
   "cell_type": "code",
   "execution_count": 13,
   "metadata": {
    "colab": {
     "base_uri": "https://localhost:8080/"
    },
    "executionInfo": {
     "elapsed": 258,
     "status": "ok",
     "timestamp": 1632759693741,
     "user": {
      "displayName": "Ebubekir Ağaçdan",
      "photoUrl": "https://lh3.googleusercontent.com/a/default-user=s64",
      "userId": "12547453896384896572"
     },
     "user_tz": -180
    },
    "id": "3KcDOYPiD2w6",
    "outputId": "fdfe5329-a338-4074-d0da-d83dedcbc7bf"
   },
   "outputs": [
    {
     "name": "stdout",
     "output_type": "stream",
     "text": [
      "9\n"
     ]
    }
   ],
   "source": [
    "print(3**2)"
   ]
  },
  {
   "cell_type": "code",
   "execution_count": 14,
   "metadata": {
    "executionInfo": {
     "elapsed": 249,
     "status": "ok",
     "timestamp": 1632759741998,
     "user": {
      "displayName": "Ebubekir Ağaçdan",
      "photoUrl": "https://lh3.googleusercontent.com/a/default-user=s64",
      "userId": "12547453896384896572"
     },
     "user_tz": -180
    },
    "id": "wtWJrUrdD78f"
   },
   "outputs": [],
   "source": []
  },
  {
   "cell_type": "code",
   "execution_count": 16,
   "metadata": {
    "colab": {
     "base_uri": "https://localhost:8080/"
    },
    "executionInfo": {
     "elapsed": 276,
     "status": "ok",
     "timestamp": 1632759820891,
     "user": {
      "displayName": "Ebubekir Ağaçdan",
      "photoUrl": "https://lh3.googleusercontent.com/a/default-user=s64",
      "userId": "12547453896384896572"
     },
     "user_tz": -180
    },
    "id": "dlGCAqkhD-04",
    "outputId": "aa333fdd-b11a-490b-8a21-44dbbfc5a9e9"
   },
   "outputs": [
    {
     "name": "stdout",
     "output_type": "stream",
     "text": [
      "8.0\n"
     ]
    }
   ],
   "source": [
    "print(64**0.5)  #square root (karekök)"
   ]
  },
  {
   "cell_type": "code",
   "execution_count": 18,
   "metadata": {
    "colab": {
     "base_uri": "https://localhost:8080/"
    },
    "executionInfo": {
     "elapsed": 330,
     "status": "ok",
     "timestamp": 1632759875542,
     "user": {
      "displayName": "Ebubekir Ağaçdan",
      "photoUrl": "https://lh3.googleusercontent.com/a/default-user=s64",
      "userId": "12547453896384896572"
     },
     "user_tz": -180
    },
    "id": "tD_3Y60WETzh",
    "outputId": "9f44dbfa-aafd-47da-923f-0564c74e7e21"
   },
   "outputs": [
    {
     "name": "stdout",
     "output_type": "stream",
     "text": [
      "2.0\n"
     ]
    }
   ],
   "source": [
    "print(8**(1/3))"
   ]
  },
  {
   "cell_type": "code",
   "execution_count": 19,
   "metadata": {
    "colab": {
     "base_uri": "https://localhost:8080/"
    },
    "executionInfo": {
     "elapsed": 566,
     "status": "ok",
     "timestamp": 1632760028048,
     "user": {
      "displayName": "Ebubekir Ağaçdan",
      "photoUrl": "https://lh3.googleusercontent.com/a/default-user=s64",
      "userId": "12547453896384896572"
     },
     "user_tz": -180
    },
    "id": "Lpmij3WCEiSd",
    "outputId": "de15c7ad-988f-4fc8-8b16-f54658c6412f"
   },
   "outputs": [
    {
     "name": "stdout",
     "output_type": "stream",
     "text": [
      "Result of this (12+7): 19\n"
     ]
    }
   ],
   "source": [
    "print('Result of this (12+7):', 12+7)"
   ]
  },
  {
   "cell_type": "code",
   "execution_count": 23,
   "metadata": {
    "colab": {
     "base_uri": "https://localhost:8080/"
    },
    "executionInfo": {
     "elapsed": 254,
     "status": "ok",
     "timestamp": 1632760122371,
     "user": {
      "displayName": "Ebubekir Ağaçdan",
      "photoUrl": "https://lh3.googleusercontent.com/a/default-user=s64",
      "userId": "12547453896384896572"
     },
     "user_tz": -180
    },
    "id": "q567bvQcFNXH",
    "outputId": "9a719985-f834-499b-ad8f-99e19e482eaa"
   },
   "outputs": [
    {
     "name": "stdout",
     "output_type": "stream",
     "text": [
      "8 seni seviyorum 8\n"
     ]
    }
   ],
   "source": [
    "print(2+6, \"seni seviyorum\", 2**3)"
   ]
  },
  {
   "cell_type": "code",
   "execution_count": 24,
   "metadata": {
    "colab": {
     "base_uri": "https://localhost:8080/"
    },
    "executionInfo": {
     "elapsed": 416,
     "status": "ok",
     "timestamp": 1632760366924,
     "user": {
      "displayName": "Ebubekir Ağaçdan",
      "photoUrl": "https://lh3.googleusercontent.com/a/default-user=s64",
      "userId": "12547453896384896572"
     },
     "user_tz": -180
    },
    "id": "nQeJfke9FY2_",
    "outputId": "e1f36a8e-915e-40cf-cb3a-4c8c4e2888ac"
   },
   "outputs": [
    {
     "name": "stdout",
     "output_type": "stream",
     "text": [
      "children deserve respect as much as adult in 2020\n"
     ]
    }
   ],
   "source": [
    "number = 2020\n",
    "text = \"children deserve respect as much as adult in\"\n",
    "print(text, number)"
   ]
  },
  {
   "cell_type": "code",
   "execution_count": 25,
   "metadata": {
    "colab": {
     "base_uri": "https://localhost:8080/"
    },
    "executionInfo": {
     "elapsed": 247,
     "status": "ok",
     "timestamp": 1632760456031,
     "user": {
      "displayName": "Ebubekir Ağaçdan",
      "photoUrl": "https://lh3.googleusercontent.com/a/default-user=s64",
      "userId": "12547453896384896572"
     },
     "user_tz": -180
    },
    "id": "TIBD-yY0GgQm",
    "outputId": "36717c4a-0d67-4446-f516-6007e1b8e5ec"
   },
   "outputs": [
    {
     "name": "stdout",
     "output_type": "stream",
     "text": [
      "yesterday I ate 2 apples\n"
     ]
    }
   ],
   "source": [
    "print(\"yesterday I ate\", 2, 'apples')"
   ]
  },
  {
   "cell_type": "code",
   "execution_count": 32,
   "metadata": {
    "colab": {
     "base_uri": "https://localhost:8080/"
    },
    "executionInfo": {
     "elapsed": 262,
     "status": "ok",
     "timestamp": 1632760936791,
     "user": {
      "displayName": "Ebubekir Ağaçdan",
      "photoUrl": "https://lh3.googleusercontent.com/a/default-user=s64",
      "userId": "12547453896384896572"
     },
     "user_tz": -180
    },
    "id": "B0iGbaKFG2Cr",
    "outputId": "eb69bc2e-8b29-47ac-bc25-f69f9d0c71b4"
   },
   "outputs": [
    {
     "name": "stdout",
     "output_type": "stream",
     "text": [
      "i will say 'i missed you' to my mother.\n"
     ]
    }
   ],
   "source": [
    "print('i', end=\" \")\n",
    "print('will say', end=' ')\n",
    "print(\"'i missed you'\", end=' ')\n",
    "print('to my mother.')"
   ]
  },
  {
   "cell_type": "code",
   "execution_count": 34,
   "metadata": {
    "colab": {
     "base_uri": "https://localhost:8080/"
    },
    "executionInfo": {
     "elapsed": 276,
     "status": "ok",
     "timestamp": 1632761142828,
     "user": {
      "displayName": "Ebubekir Ağaçdan",
      "photoUrl": "https://lh3.googleusercontent.com/a/default-user=s64",
      "userId": "12547453896384896572"
     },
     "user_tz": -180
    },
    "id": "x5febyYSIClO",
    "outputId": "7720232c-1688-4ad1-f85e-beb4ed1bef88"
   },
   "outputs": [
    {
     "name": "stdout",
     "output_type": "stream",
     "text": [
      "smoking+is+slowly+killing me\n"
     ]
    }
   ],
   "source": [
    "print('smoking', 'is', 'slowly', 'killing me', sep='+')"
   ]
  },
  {
   "cell_type": "code",
   "execution_count": 35,
   "metadata": {
    "colab": {
     "base_uri": "https://localhost:8080/"
    },
    "executionInfo": {
     "elapsed": 283,
     "status": "ok",
     "timestamp": 1632761481474,
     "user": {
      "displayName": "Ebubekir Ağaçdan",
      "photoUrl": "https://lh3.googleusercontent.com/a/default-user=s64",
      "userId": "12547453896384896572"
     },
     "user_tz": -180
    },
    "id": "8aHC8aU4JbPF",
    "outputId": "91a811f0-15aa-412f-cba5-8b9b5589ddcf"
   },
   "outputs": [
    {
     "name": "stdout",
     "output_type": "stream",
     "text": [
      "value of x : 5\n"
     ]
    }
   ],
   "source": [
    "x = 5\n",
    "print('value of x :', x)"
   ]
  },
  {
   "cell_type": "code",
   "execution_count": 40,
   "metadata": {
    "colab": {
     "base_uri": "https://localhost:8080/"
    },
    "executionInfo": {
     "elapsed": 24,
     "status": "ok",
     "timestamp": 1632761896087,
     "user": {
      "displayName": "Ebubekir Ağaçdan",
      "photoUrl": "https://lh3.googleusercontent.com/a/default-user=s64",
      "userId": "12547453896384896572"
     },
     "user_tz": -180
    },
    "id": "CMP74olLKwZO",
    "outputId": "c1590a6d-a1a1-4c55-f1be-61e579cee7ab"
   },
   "outputs": [
    {
     "name": "stdout",
     "output_type": "stream",
     "text": [
      "x'in 2 fazlası : 7 \n",
      "\n",
      "7\n"
     ]
    }
   ],
   "source": [
    "\n",
    "x += 2\n",
    "print(\"x'in 2 fazlası :\", x, \"\\n\")\n",
    "print(x)"
   ]
  },
  {
   "cell_type": "code",
   "execution_count": 43,
   "metadata": {
    "colab": {
     "base_uri": "https://localhost:8080/",
     "height": 180
    },
    "executionInfo": {
     "elapsed": 261,
     "status": "error",
     "timestamp": 1632762115939,
     "user": {
      "displayName": "Ebubekir Ağaçdan",
      "photoUrl": "https://lh3.googleusercontent.com/a/default-user=s64",
      "userId": "12547453896384896572"
     },
     "user_tz": -180
    },
    "id": "axG-1oJDLMB3",
    "outputId": "b7391452-bf84-4006-c202-6600e070166f"
   },
   "outputs": [
    {
     "ename": "NameError",
     "evalue": "ignored",
     "output_type": "error",
     "traceback": [
      "\u001b[0;31m---------------------------------------------------------------------------\u001b[0m",
      "\u001b[0;31mNameError\u001b[0m                                 Traceback (most recent call last)",
      "\u001b[0;32m<ipython-input-43-3c8a6a35221b>\u001b[0m in \u001b[0;36m<module>\u001b[0;34m()\u001b[0m\n\u001b[1;32m      1\u001b[0m \u001b[0my\u001b[0m \u001b[0;34m=\u001b[0m \u001b[0;36m10\u001b[0m\u001b[0;34m\u001b[0m\u001b[0;34m\u001b[0m\u001b[0m\n\u001b[0;32m----> 2\u001b[0;31m \u001b[0myazdır\u001b[0m\u001b[0;34m(\u001b[0m\u001b[0;34m\"y'nin değeri:\"\u001b[0m\u001b[0;34m,\u001b[0m \u001b[0my\u001b[0m\u001b[0;34m)\u001b[0m\u001b[0;34m\u001b[0m\u001b[0;34m\u001b[0m\u001b[0m\n\u001b[0m",
      "\u001b[0;31mNameError\u001b[0m: name 'yazdır' is not defined"
     ]
    }
   ],
   "source": [
    "y = 10\n",
    "yazdır(\"y'nin değeri:\", y)"
   ]
  },
  {
   "cell_type": "code",
   "execution_count": null,
   "metadata": {
    "id": "7bvhOjGzM1Aq"
   },
   "outputs": [],
   "source": []
  }
 ],
 "metadata": {
  "colab": {
   "authorship_tag": "ABX9TyMKyUFrQMKJxVZeijJbLdQn",
   "collapsed_sections": [],
   "name": "preclass 2 alıştırmaları.ipynb",
   "provenance": []
  },
  "kernelspec": {
   "display_name": "Python 3",
   "language": "python",
   "name": "python3"
  },
  "language_info": {
   "codemirror_mode": {
    "name": "ipython",
    "version": 3
   },
   "file_extension": ".py",
   "mimetype": "text/x-python",
   "name": "python",
   "nbconvert_exporter": "python",
   "pygments_lexer": "ipython3",
   "version": "3.8.8"
  }
 },
 "nbformat": 4,
 "nbformat_minor": 1
}
