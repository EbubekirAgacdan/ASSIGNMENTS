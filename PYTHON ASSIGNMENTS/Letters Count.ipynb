{
 "cells": [
  {
   "cell_type": "code",
   "execution_count": 1,
   "metadata": {},
   "outputs": [
    {
     "name": "stdout",
     "output_type": "stream",
     "text": [
      "{'w': 1, 'h': 1, 'a': 1, 't': 1, ' ': 1, 'f': 1, 'n': 1, 's': 1, 'i': 1, 'c': 1, 'e': 1, '!': 1}\n"
     ]
    }
   ],
   "source": [
    "sentence=input(\"Please enter a sentence : \")\n",
    "dict={}\n",
    "list=[]\n",
    "for i in sentence:\n",
    "    list.append(i)\n",
    "    dict[i]=list.count(i)\n",
    "print(dict)"
   ]
  }
 ],
 "metadata": {
  "interpreter": {
   "hash": "445e6ade3c4bc3514364a042a5013135907c40fd1b151b894b401571d86d4848"
  },
  "kernelspec": {
   "display_name": "Python 3.10.1 64-bit",
   "language": "python",
   "name": "python3"
  },
  "language_info": {
   "codemirror_mode": {
    "name": "ipython",
    "version": 3
   },
   "file_extension": ".py",
   "mimetype": "text/x-python",
   "name": "python",
   "nbconvert_exporter": "python",
   "pygments_lexer": "ipython3",
   "version": "3.10.1"
  },
  "orig_nbformat": 4
 },
 "nbformat": 4,
 "nbformat_minor": 2
}
