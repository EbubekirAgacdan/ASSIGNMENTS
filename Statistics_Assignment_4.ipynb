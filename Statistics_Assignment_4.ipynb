{
  "nbformat": 4,
  "nbformat_minor": 0,
  "metadata": {
    "colab": {
      "name": "Statistics Assignment 4 ",
      "provenance": []
    },
    "kernelspec": {
      "name": "python3",
      "display_name": "Python 3"
    },
    "language_info": {
      "name": "python"
    }
  },
  "cells": [
    {
      "cell_type": "code",
      "execution_count": 1,
      "metadata": {
        "id": "3klDytWQ8PH8"
      },
      "outputs": [],
      "source": [
        "import numpy as np\n",
        "import pandas as pd\n",
        "from scipy import stats\n",
        "import seaborn as sns\n",
        "import matplotlib.pyplot as plt"
      ]
    },
    {
      "cell_type": "markdown",
      "source": [
        "EXERCISE 1\n",
        "\n",
        "A salesperson has found that the probability of a sale on a single contact is approximately .3 If the salesperson contacts 10 prospects, what is the approximate probability of making at least one sale? (Wackerly, Ex.3.135)"
      ],
      "metadata": {
        "id": "JaH_4f0s__co"
      }
    },
    {
      "cell_type": "code",
      "source": [
        "n = 10\n",
        "p = 0.3\n",
        "\n",
        "1 - stats.binom.cdf(0,10,0.3)"
      ],
      "metadata": {
        "colab": {
          "base_uri": "https://localhost:8080/"
        },
        "id": "8VXxc-89AD-i",
        "outputId": "bcf75058-e273-4143-9f1b-dbfe0343c010"
      },
      "execution_count": 24,
      "outputs": [
        {
          "output_type": "execute_result",
          "data": {
            "text/plain": [
              "0.9717524751000001"
            ]
          },
          "metadata": {},
          "execution_count": 24
        }
      ]
    },
    {
      "cell_type": "markdown",
      "source": [
        "1-) Ten coins are tossed simultaneously. Find the probability of getting\n",
        "\n",
        "(i) at least seven heads"
      ],
      "metadata": {
        "id": "W98uJBIIApdI"
      }
    },
    {
      "cell_type": "code",
      "source": [
        "n = 10 \n",
        "\n",
        "p = 0.5\n",
        "1 - stats.binom.cdf(6,10,0.5)"
      ],
      "metadata": {
        "colab": {
          "base_uri": "https://localhost:8080/"
        },
        "id": "0aRElCCDAuCo",
        "outputId": "813c9720-2f02-4672-8fee-089115500e65"
      },
      "execution_count": 25,
      "outputs": [
        {
          "output_type": "execute_result",
          "data": {
            "text/plain": [
              "0.171875"
            ]
          },
          "metadata": {},
          "execution_count": 25
        }
      ]
    },
    {
      "cell_type": "markdown",
      "source": [
        "(ii) exactly seven heads"
      ],
      "metadata": {
        "id": "QbuQxAhXBCkN"
      }
    },
    {
      "cell_type": "code",
      "source": [
        "stats.binom.pmf(7,10,0.5)"
      ],
      "metadata": {
        "colab": {
          "base_uri": "https://localhost:8080/"
        },
        "id": "lCx51D79A_-u",
        "outputId": "4d587df9-a743-42b5-cb03-5ab719818af7"
      },
      "execution_count": 6,
      "outputs": [
        {
          "output_type": "execute_result",
          "data": {
            "text/plain": [
              "0.11718750000000014"
            ]
          },
          "metadata": {},
          "execution_count": 6
        }
      ]
    },
    {
      "cell_type": "markdown",
      "source": [
        "(iii)at most seven heads"
      ],
      "metadata": {
        "id": "PTUCHRQiBVGU"
      }
    },
    {
      "cell_type": "code",
      "source": [
        "stats.binom.cdf(7,10,0.5)"
      ],
      "metadata": {
        "colab": {
          "base_uri": "https://localhost:8080/"
        },
        "id": "zMvPMy2IBS9A",
        "outputId": "71e6b886-15ed-490a-c52d-0ea3f1587b69"
      },
      "execution_count": 26,
      "outputs": [
        {
          "output_type": "execute_result",
          "data": {
            "text/plain": [
              "0.9453125"
            ]
          },
          "metadata": {},
          "execution_count": 26
        }
      ]
    },
    {
      "cell_type": "markdown",
      "source": [
        "EXERCISE 2\n",
        "\n",
        "The cycle time for trucks hauling concrete to a highway construction site is uniformly distributed over the interval 50 to 70 minutes. What is the probability that the cycle time exceeds 65 minutes if it is known that the cycle time exceeds 55 minutes?"
      ],
      "metadata": {
        "id": "owT9ZxVpBkY2"
      }
    },
    {
      "cell_type": "code",
      "source": [
        "#for P(x>65) :\n",
        "\n",
        "1 - stats.uniform.cdf(65,50,20)"
      ],
      "metadata": {
        "colab": {
          "base_uri": "https://localhost:8080/"
        },
        "id": "xOG3470UB2Iz",
        "outputId": "4b1373f0-a57f-423c-960b-b2901794720f"
      },
      "execution_count": 10,
      "outputs": [
        {
          "output_type": "execute_result",
          "data": {
            "text/plain": [
              "0.25"
            ]
          },
          "metadata": {},
          "execution_count": 10
        }
      ]
    },
    {
      "cell_type": "code",
      "source": [
        "#for P(x>55)\n",
        "1- stats.uniform.cdf(55,50,20)"
      ],
      "metadata": {
        "colab": {
          "base_uri": "https://localhost:8080/"
        },
        "id": "0SEnlimhCEgA",
        "outputId": "41f92ab6-28cf-4dd5-aa35-f035a3b7a142"
      },
      "execution_count": 11,
      "outputs": [
        {
          "output_type": "execute_result",
          "data": {
            "text/plain": [
              "0.75"
            ]
          },
          "metadata": {},
          "execution_count": 11
        }
      ]
    },
    {
      "cell_type": "code",
      "source": [
        "# for P(x>65\\x>55) :\n",
        "\n",
        "(1 - stats.uniform.cdf(65,50,20))/(1- stats.uniform.cdf(55,50,20))"
      ],
      "metadata": {
        "colab": {
          "base_uri": "https://localhost:8080/"
        },
        "id": "bhcp2ftQCIjn",
        "outputId": "2345ddc7-1ac2-4051-93f0-d99119c39318"
      },
      "execution_count": 12,
      "outputs": [
        {
          "output_type": "execute_result",
          "data": {
            "text/plain": [
              "0.3333333333333333"
            ]
          },
          "metadata": {},
          "execution_count": 12
        }
      ]
    },
    {
      "cell_type": "markdown",
      "source": [
        "EXERCISE 3.\n",
        "\n",
        "The width of bolts of fabric is normally distributed with mean 950 mm (millimeters) and standard deviation 10 mm.\n",
        "\n",
        "What is the probability that a randomly chosen bolt has a width of between 947 and 958mm?"
      ],
      "metadata": {
        "id": "SzAyInyjCkp8"
      }
    },
    {
      "cell_type": "code",
      "source": [
        "#mean = 950 std = 10\n",
        "#P(947<x<958)=?"
      ],
      "metadata": {
        "id": "AnH4N9v9CdhT"
      },
      "execution_count": 13,
      "outputs": []
    },
    {
      "cell_type": "code",
      "source": [
        "stats.norm.cdf(958,950,10)"
      ],
      "metadata": {
        "colab": {
          "base_uri": "https://localhost:8080/"
        },
        "id": "4QwKMS-1Css3",
        "outputId": "3e9d30b6-2000-4762-e8db-40777bf84b11"
      },
      "execution_count": 14,
      "outputs": [
        {
          "output_type": "execute_result",
          "data": {
            "text/plain": [
              "0.7881446014166034"
            ]
          },
          "metadata": {},
          "execution_count": 14
        }
      ]
    },
    {
      "cell_type": "code",
      "source": [
        "stats.norm.cdf(947,950,10)"
      ],
      "metadata": {
        "colab": {
          "base_uri": "https://localhost:8080/"
        },
        "id": "jugoda2YCxHX",
        "outputId": "179ce232-0514-4de1-f5f7-642b32638fdc"
      },
      "execution_count": 15,
      "outputs": [
        {
          "output_type": "execute_result",
          "data": {
            "text/plain": [
              "0.3820885778110474"
            ]
          },
          "metadata": {},
          "execution_count": 15
        }
      ]
    },
    {
      "cell_type": "code",
      "source": [
        "stats.norm.cdf(958,950,10) - stats.norm.cdf(947,950,10)"
      ],
      "metadata": {
        "colab": {
          "base_uri": "https://localhost:8080/"
        },
        "id": "5R1LiDZRC0fC",
        "outputId": "a8783a85-9f8e-494a-92ba-4dff45fa511e"
      },
      "execution_count": 16,
      "outputs": [
        {
          "output_type": "execute_result",
          "data": {
            "text/plain": [
              "0.406056023605556"
            ]
          },
          "metadata": {},
          "execution_count": 16
        }
      ]
    },
    {
      "cell_type": "markdown",
      "source": [
        "1-) What is the appropriate value for C such that a randomly chosen bolt has a width less than C with probability .8531? (Wackerly, Ex.4.73)"
      ],
      "metadata": {
        "id": "eb7Ff1dLC-iQ"
      }
    },
    {
      "cell_type": "code",
      "source": [
        "#mean = 950, std = 10, P(x <= C) = 0.8531"
      ],
      "metadata": {
        "id": "MJlB4JrZC4qV"
      },
      "execution_count": 17,
      "outputs": []
    },
    {
      "cell_type": "code",
      "source": [
        "stats.norm.ppf(q=0.8531, loc=950, scale=10)\n"
      ],
      "metadata": {
        "colab": {
          "base_uri": "https://localhost:8080/"
        },
        "id": "E_9OfCv6DHg5",
        "outputId": "9b4918b7-7d13-4e97-bbac-a65e124967e7"
      },
      "execution_count": 27,
      "outputs": [
        {
          "output_type": "execute_result",
          "data": {
            "text/plain": [
              "960.4982190962642"
            ]
          },
          "metadata": {},
          "execution_count": 27
        }
      ]
    },
    {
      "cell_type": "markdown",
      "source": [
        "EXERCISE 4.\n",
        "\n",
        "Suppose scores on exams in statistics are normally distributed with an unknown population mean and a population standard deviation of 3 points. A random sample of 36 scores is taken and gives a sample mean (sample mean score) of 68. Find a confidence interval estimate for the population mean exam score (the mean score on all exams). Find a 90% confidence interval for the true (population) mean of statistics exam scores."
      ],
      "metadata": {
        "id": "C5NwjonFDSR7"
      }
    },
    {
      "cell_type": "code",
      "source": [
        "n = 36\n",
        "mu = 68\n",
        "s = 3 / np.sqrt(36)\n",
        "\n",
        "z = stats.t.ppf((1+0.90)/2, n-1)\n",
        "\n",
        "h = s * z\n",
        "\n",
        "CI = (mu-h, mu+h)\n",
        "CI"
      ],
      "metadata": {
        "colab": {
          "base_uri": "https://localhost:8080/"
        },
        "id": "ZcdMbsXlDRQL",
        "outputId": "8ae58009-ae7c-4607-adf5-be7d84b788fd"
      },
      "execution_count": 19,
      "outputs": [
        {
          "output_type": "execute_result",
          "data": {
            "text/plain": [
              "(67.15521377301812, 68.84478622698188)"
            ]
          },
          "metadata": {},
          "execution_count": 19
        }
      ]
    },
    {
      "cell_type": "markdown",
      "source": [
        "EXERCISE 5. What is the normal body temperature for healthy humans? A random sample of 130 healthy human body temperatures provided by Allen Shoemaker7 yielded 98.25 degrees and standard deviation 0.73 degrees. Give a 99% confidence interval for the average body temperature of healthy people."
      ],
      "metadata": {
        "id": "pGnwEYigD8X8"
      }
    },
    {
      "cell_type": "code",
      "source": [
        "n = 130\n",
        "mu = 98.25\n",
        "s = 0.73 / np.sqrt(130)\n",
        "\n",
        "z = stats.t.ppf((1+0.99)/2, n-1)\n",
        "\n",
        "h = s * z\n",
        "\n",
        "CI = (mu-h, mu+h)\n",
        "CI"
      ],
      "metadata": {
        "colab": {
          "base_uri": "https://localhost:8080/"
        },
        "id": "NUXTIluBD11Q",
        "outputId": "93486d18-5ea9-4c9d-eab0-ca9c2c4458e2"
      },
      "execution_count": 20,
      "outputs": [
        {
          "output_type": "execute_result",
          "data": {
            "text/plain": [
              "(98.08260738705933, 98.41739261294067)"
            ]
          },
          "metadata": {},
          "execution_count": 20
        }
      ]
    }
  ]
}