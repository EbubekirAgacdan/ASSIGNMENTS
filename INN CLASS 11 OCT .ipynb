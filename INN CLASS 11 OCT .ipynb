{
 "cells": [
  {
   "cell_type": "code",
   "execution_count": 1,
   "id": "8267bba6",
   "metadata": {},
   "outputs": [
    {
     "data": {
      "text/plain": [
       "False"
      ]
     },
     "execution_count": 1,
     "metadata": {},
     "output_type": "execute_result"
    }
   ],
   "source": [
    "text = \"clarusway\"\n",
    "text.startswith(\"lc\")"
   ]
  },
  {
   "cell_type": "code",
   "execution_count": 3,
   "id": "dc952a10",
   "metadata": {},
   "outputs": [
    {
     "data": {
      "text/plain": [
       "False"
      ]
     },
     "execution_count": 3,
     "metadata": {},
     "output_type": "execute_result"
    }
   ],
   "source": [
    "text.endswith(\"ya\")"
   ]
  },
  {
   "cell_type": "code",
   "execution_count": 5,
   "id": "29ecf861",
   "metadata": {},
   "outputs": [
    {
     "data": {
      "text/plain": [
       "True"
      ]
     },
     "execution_count": 5,
     "metadata": {},
     "output_type": "execute_result"
    }
   ],
   "source": [
    "text.startswith(\"us\", 4)"
   ]
  },
  {
   "cell_type": "code",
   "execution_count": 7,
   "id": "efa70cfe",
   "metadata": {},
   "outputs": [
    {
     "name": "stdout",
     "output_type": "stream",
     "text": [
      "True\n",
      "True\n",
      "True\n"
     ]
    }
   ],
   "source": [
    "email = \"clarusway@clarusway.com is my e-mail address\"\n",
    "print(email.startswith(\"@\", 9))\n",
    "print(email.startswith(\"@cla\", 9))\n",
    "print(email.endswith(\"-\", 10, 32))"
   ]
  },
  {
   "cell_type": "code",
   "execution_count": 11,
   "id": "94b52347",
   "metadata": {},
   "outputs": [
    {
     "name": "stdout",
     "output_type": "stream",
     "text": [
      "Clarusway\n"
     ]
    }
   ],
   "source": [
    "text = text.replace(\"c\", \"C\")\n",
    "print(text)"
   ]
  },
  {
   "cell_type": "code",
   "execution_count": 13,
   "id": "9799699c",
   "metadata": {},
   "outputs": [
    {
     "name": "stdout",
     "output_type": "stream",
     "text": [
      "The Better The Family, The Better The Society\n"
     ]
    }
   ],
   "source": [
    "text = \"the better the family, the better the society\"\n",
    "text = text.title()\n",
    "print(text)"
   ]
  },
  {
   "cell_type": "code",
   "execution_count": 15,
   "id": "24bf3f52",
   "metadata": {},
   "outputs": [
    {
     "data": {
      "text/plain": [
       "'Sodome and Gomore'"
      ]
     },
     "execution_count": 15,
     "metadata": {},
     "output_type": "execute_result"
    }
   ],
   "source": [
    "text = \"S0d0me and G0m0re\"\n",
    "text = text.replace(\"0\", \"o\")\n",
    "text"
   ]
  },
  {
   "cell_type": "code",
   "execution_count": 17,
   "id": "40f624ba",
   "metadata": {},
   "outputs": [
    {
     "name": "stdout",
     "output_type": "stream",
     "text": [
      "listen first\n"
     ]
    }
   ],
   "source": [
    "space_string = \"    listen first    \"\n",
    "print(space_string.strip())"
   ]
  },
  {
   "cell_type": "code",
   "execution_count": 18,
   "id": "3d449260",
   "metadata": {},
   "outputs": [
    {
     "name": "stdout",
     "output_type": "stream",
     "text": [
      "\tali veli deli\t\n"
     ]
    }
   ],
   "source": [
    "print(\"\\tali veli deli\\t\")"
   ]
  },
  {
   "cell_type": "code",
   "execution_count": 19,
   "id": "a741c0ae",
   "metadata": {},
   "outputs": [
    {
     "name": "stdout",
     "output_type": "stream",
     "text": [
      "ali veli deli\n"
     ]
    }
   ],
   "source": [
    "text = \"\\tali veli deli\\t\"\n",
    "print(text.strip())"
   ]
  },
  {
   "cell_type": "code",
   "execution_count": 20,
   "id": "51488681",
   "metadata": {},
   "outputs": [
    {
     "data": {
      "text/plain": [
       "'laruswa'"
      ]
     },
     "execution_count": 20,
     "metadata": {},
     "output_type": "execute_result"
    }
   ],
   "source": [
    "\"clarusway\".strip(\"cy\")"
   ]
  },
  {
   "cell_type": "code",
   "execution_count": 22,
   "id": "fffa1d90",
   "metadata": {},
   "outputs": [
    {
     "name": "stdout",
     "output_type": "stream",
     "text": [
      "YOU CAN LEARN ALMOST EVERYTHING IN PRE-CLASS\n"
     ]
    }
   ],
   "source": [
    "text = \"tyou can learn almost everything in pre-classz\"\n",
    "text = text.strip(\"tz\").upper()\n",
    "print(text)"
   ]
  },
  {
   "cell_type": "markdown",
   "id": "35721288",
   "metadata": {},
   "source": [
    "# ÖNEMLİ ÖZELLİKLER"
   ]
  },
  {
   "cell_type": "code",
   "execution_count": 23,
   "id": "9085d9a1",
   "metadata": {},
   "outputs": [
    {
     "name": "stdout",
     "output_type": "stream",
     "text": [
      "-1\n"
     ]
    }
   ],
   "source": [
    "a = 1\n",
    "print(-a)"
   ]
  },
  {
   "cell_type": "code",
   "execution_count": 24,
   "id": "44b92245",
   "metadata": {},
   "outputs": [
    {
     "name": "stdout",
     "output_type": "stream",
     "text": [
      "The sum of 3 + 4 is : 7\n"
     ]
    }
   ],
   "source": [
    "a = 3\n",
    "b = 4\n",
    "print(\"The sum of {} + {} is : {}\" .format(a, b, a+b))"
   ]
  },
  {
   "cell_type": "code",
   "execution_count": 25,
   "id": "97cfe051",
   "metadata": {},
   "outputs": [
    {
     "name": "stdout",
     "output_type": "stream",
     "text": [
      "The sum of 3 + 4 is : 12\n"
     ]
    }
   ],
   "source": [
    "print(\"The sum of {} + {} is : {}\" .format(a, b, a*b))"
   ]
  },
  {
   "cell_type": "code",
   "execution_count": 27,
   "id": "fdb8f34e",
   "metadata": {},
   "outputs": [
    {
     "name": "stdout",
     "output_type": "stream",
     "text": [
      "The power of 3 to 2 is : 8\n"
     ]
    }
   ],
   "source": [
    "x = 2\n",
    "y = 3\n",
    "print(\"The power of {} to {} is : {}\" .format(y, x, x**y))"
   ]
  },
  {
   "cell_type": "code",
   "execution_count": 32,
   "id": "8f232e91",
   "metadata": {},
   "outputs": [
    {
     "data": {
      "text/plain": [
       "'3.12, 2.455, 26.5555'"
      ]
     },
     "execution_count": 32,
     "metadata": {},
     "output_type": "execute_result"
    }
   ],
   "source": [
    "text = \"{:.2f}, {:.3f}, {:.4f}\".format(3.1245, 2.4552, 26.555525)  # noktadan sonra kaç basamak yazdıracağımızı belirler\n",
    "text"
   ]
  },
  {
   "cell_type": "code",
   "execution_count": 33,
   "id": "1c08b807",
   "metadata": {},
   "outputs": [
    {
     "data": {
      "text/plain": [
       "'a3, 2.4, 26.5'"
      ]
     },
     "execution_count": 33,
     "metadata": {},
     "output_type": "execute_result"
    }
   ],
   "source": [
    "text = \"{:.2s}, {:.3s}, {:.4s}\".format(\"a3.1245\", \"2.4b552\", \"26.5v55525\")  # kaç karakter alacağımızı belirler\n",
    "text"
   ]
  },
  {
   "cell_type": "code",
   "execution_count": 35,
   "id": "00a1e180",
   "metadata": {},
   "outputs": [
    {
     "data": {
      "text/plain": [
       "'a3, 2.4, 26.5'"
      ]
     },
     "execution_count": 35,
     "metadata": {},
     "output_type": "execute_result"
    }
   ],
   "source": [
    "text = \"{:.2}, {:.3}, {:.4}\".format(\"a3.1245\", \"2.4b552\", \"26.5v55525\")  # string ifadeler de s kullanmamıza da gerek yok\n",
    "text"
   ]
  },
  {
   "cell_type": "code",
   "execution_count": 39,
   "id": "d69c33bd",
   "metadata": {},
   "outputs": [
    {
     "data": {
      "text/plain": [
       "'      test'"
      ]
     },
     "execution_count": 39,
     "metadata": {},
     "output_type": "execute_result"
    }
   ],
   "source": [
    "text = \"{:>10}\".format(\"test\")  # sağa sola yaslama\n",
    "text"
   ]
  },
  {
   "cell_type": "code",
   "execution_count": 40,
   "id": "8f132eed",
   "metadata": {},
   "outputs": [
    {
     "data": {
      "text/plain": [
       "'test      '"
      ]
     },
     "execution_count": 40,
     "metadata": {},
     "output_type": "execute_result"
    }
   ],
   "source": [
    "text = \"{:<10}\".format(\"test\")\n",
    "text"
   ]
  },
  {
   "cell_type": "code",
   "execution_count": 41,
   "id": "8db7440a",
   "metadata": {},
   "outputs": [
    {
     "data": {
      "text/plain": [
       "'formatlama satırı                 test bu da textin son kısmı'"
      ]
     },
     "execution_count": 41,
     "metadata": {},
     "output_type": "execute_result"
    }
   ],
   "source": [
    "text = \"formatlama satırı {:>20} bu da textin son kısmı\".format(\"test\")\n",
    "text"
   ]
  },
  {
   "cell_type": "code",
   "execution_count": 42,
   "id": "7361a448",
   "metadata": {},
   "outputs": [
    {
     "data": {
      "text/plain": [
       "'formatlama satırı test                 bu da textin son kısmı'"
      ]
     },
     "execution_count": 42,
     "metadata": {},
     "output_type": "execute_result"
    }
   ],
   "source": [
    "text = \"formatlama satırı {:<20} bu da textin son kısmı\".format(\"test\")\n",
    "text"
   ]
  },
  {
   "cell_type": "code",
   "execution_count": 43,
   "id": "7e66ccd8",
   "metadata": {},
   "outputs": [
    {
     "data": {
      "text/plain": [
       "'        abc         '"
      ]
     },
     "execution_count": 43,
     "metadata": {},
     "output_type": "execute_result"
    }
   ],
   "source": [
    "text = \"{:^20}\".format(\"abc\")\n",
    "text"
   ]
  },
  {
   "cell_type": "code",
   "execution_count": 45,
   "id": "6c9c6f39",
   "metadata": {},
   "outputs": [
    {
     "data": {
      "text/plain": [
       "'hippo     '"
      ]
     },
     "execution_count": 45,
     "metadata": {},
     "output_type": "execute_result"
    }
   ],
   "source": [
    "text = \"{:10.5}\".format(\"hippopotamus\")\n",
    "text"
   ]
  },
  {
   "cell_type": "code",
   "execution_count": 46,
   "id": "dc618838",
   "metadata": {},
   "outputs": [
    {
     "data": {
      "text/plain": [
       "'hippopo   '"
      ]
     },
     "execution_count": 46,
     "metadata": {},
     "output_type": "execute_result"
    }
   ],
   "source": [
    "text = \"{:10.7}\".format(\"hippopotamus\")\n",
    "text"
   ]
  },
  {
   "cell_type": "code",
   "execution_count": 47,
   "id": "78b4eb36",
   "metadata": {},
   "outputs": [
    {
     "data": {
      "text/plain": [
       "'        hippopo'"
      ]
     },
     "execution_count": 47,
     "metadata": {},
     "output_type": "execute_result"
    }
   ],
   "source": [
    "text = \"{:>15.7}\".format(\"hippopotamus\")\n",
    "text"
   ]
  },
  {
   "cell_type": "code",
   "execution_count": 48,
   "id": "a427effa",
   "metadata": {},
   "outputs": [
    {
     "data": {
      "text/plain": [
       "'+55'"
      ]
     },
     "execution_count": 48,
     "metadata": {},
     "output_type": "execute_result"
    }
   ],
   "source": [
    "\"{:+}\".format(55)"
   ]
  },
  {
   "cell_type": "markdown",
   "id": "a16ddbe0",
   "metadata": {},
   "source": [
    "# COVİD SORUSU"
   ]
  },
  {
   "cell_type": "code",
   "execution_count": 49,
   "id": "ab2b3e46",
   "metadata": {},
   "outputs": [
    {
     "data": {
      "text/plain": [
       "True"
      ]
     },
     "execution_count": 49,
     "metadata": {},
     "output_type": "execute_result"
    }
   ],
   "source": [
    "age = True\n",
    "chronic = True\n",
    "immune = True\n",
    "\n",
    "risk = age or chronic or immune\n",
    "risk"
   ]
  },
  {
   "cell_type": "code",
   "execution_count": null,
   "id": "9d0def33",
   "metadata": {},
   "outputs": [],
   "source": []
  }
 ],
 "metadata": {
  "kernelspec": {
   "display_name": "Python 3",
   "language": "python",
   "name": "python3"
  },
  "language_info": {
   "codemirror_mode": {
    "name": "ipython",
    "version": 3
   },
   "file_extension": ".py",
   "mimetype": "text/x-python",
   "name": "python",
   "nbconvert_exporter": "python",
   "pygments_lexer": "ipython3",
   "version": "3.8.8"
  }
 },
 "nbformat": 4,
 "nbformat_minor": 5
}
