{
 "cells": [
  {
   "cell_type": "code",
   "execution_count": 4,
   "id": "382f447a",
   "metadata": {},
   "outputs": [
    {
     "data": {
      "text/plain": [
       "False"
      ]
     },
     "execution_count": 4,
     "metadata": {},
     "output_type": "execute_result"
    }
   ],
   "source": [
    "bool(None)"
   ]
  },
  {
   "cell_type": "code",
   "execution_count": 5,
   "id": "30d25d9e",
   "metadata": {},
   "outputs": [
    {
     "data": {
      "text/plain": [
       "True"
      ]
     },
     "execution_count": 5,
     "metadata": {},
     "output_type": "execute_result"
    }
   ],
   "source": [
    "bool(\"0\")"
   ]
  },
  {
   "cell_type": "code",
   "execution_count": 6,
   "id": "ebddc39e",
   "metadata": {},
   "outputs": [
    {
     "data": {
      "text/plain": [
       "False"
      ]
     },
     "execution_count": 6,
     "metadata": {},
     "output_type": "execute_result"
    }
   ],
   "source": [
    "bool(\"\")"
   ]
  },
  {
   "cell_type": "code",
   "execution_count": 7,
   "id": "3537d74f",
   "metadata": {},
   "outputs": [
    {
     "data": {
      "text/plain": [
       "False"
      ]
     },
     "execution_count": 7,
     "metadata": {},
     "output_type": "execute_result"
    }
   ],
   "source": [
    "bool([])"
   ]
  },
  {
   "cell_type": "code",
   "execution_count": 8,
   "id": "8fb0dff6",
   "metadata": {},
   "outputs": [
    {
     "data": {
      "text/plain": [
       "False"
      ]
     },
     "execution_count": 8,
     "metadata": {},
     "output_type": "execute_result"
    }
   ],
   "source": [
    "bool(0)"
   ]
  },
  {
   "cell_type": "code",
   "execution_count": 9,
   "id": "2459ce7a",
   "metadata": {},
   "outputs": [
    {
     "data": {
      "text/plain": [
       "True"
      ]
     },
     "execution_count": 9,
     "metadata": {},
     "output_type": "execute_result"
    }
   ],
   "source": [
    "bool(1)"
   ]
  },
  {
   "cell_type": "code",
   "execution_count": 10,
   "id": "fb4e7519",
   "metadata": {},
   "outputs": [
    {
     "name": "stdout",
     "output_type": "stream",
     "text": [
      "3\n"
     ]
    }
   ],
   "source": [
    "print(2 and 3)"
   ]
  },
  {
   "cell_type": "code",
   "execution_count": 11,
   "id": "85be6fcd",
   "metadata": {},
   "outputs": [
    {
     "name": "stdout",
     "output_type": "stream",
     "text": [
      "0\n"
     ]
    }
   ],
   "source": [
    "print(1 and 0)"
   ]
  },
  {
   "cell_type": "code",
   "execution_count": 12,
   "id": "e3c84b77",
   "metadata": {},
   "outputs": [
    {
     "data": {
      "text/plain": [
       "''"
      ]
     },
     "execution_count": 12,
     "metadata": {},
     "output_type": "execute_result"
    }
   ],
   "source": [
    "\"\" and 0"
   ]
  },
  {
   "cell_type": "code",
   "execution_count": 14,
   "id": "f06e99d7",
   "metadata": {},
   "outputs": [
    {
     "name": "stdout",
     "output_type": "stream",
     "text": [
      "hello world\n"
     ]
    }
   ],
   "source": [
    "print(2 and \"hello world\")"
   ]
  },
  {
   "cell_type": "code",
   "execution_count": 15,
   "id": "ee06ec71",
   "metadata": {},
   "outputs": [
    {
     "name": "stdout",
     "output_type": "stream",
     "text": [
      "[]\n"
     ]
    }
   ],
   "source": [
    "print([] and \"be happy!\")"
   ]
  },
  {
   "cell_type": "code",
   "execution_count": 16,
   "id": "e61528e1",
   "metadata": {},
   "outputs": [
    {
     "name": "stdout",
     "output_type": "stream",
     "text": [
      "None\n"
     ]
    }
   ],
   "source": [
    "print(None and ())"
   ]
  },
  {
   "cell_type": "code",
   "execution_count": 17,
   "id": "c39ccc25",
   "metadata": {},
   "outputs": [
    {
     "name": "stdout",
     "output_type": "stream",
     "text": [
      "2\n"
     ]
    }
   ],
   "source": [
    "print(2 or 3)"
   ]
  },
  {
   "cell_type": "code",
   "execution_count": 18,
   "id": "31238b7a",
   "metadata": {},
   "outputs": [
    {
     "name": "stdout",
     "output_type": "stream",
     "text": [
      "1\n"
     ]
    }
   ],
   "source": [
    "print(None or 1)"
   ]
  },
  {
   "cell_type": "code",
   "execution_count": 19,
   "id": "88bbc817",
   "metadata": {},
   "outputs": [
    {
     "name": "stdout",
     "output_type": "stream",
     "text": [
      "2\n"
     ]
    }
   ],
   "source": [
    "print(2 or \"hello world\")"
   ]
  },
  {
   "cell_type": "code",
   "execution_count": 20,
   "id": "7e8e758f",
   "metadata": {},
   "outputs": [
    {
     "name": "stdout",
     "output_type": "stream",
     "text": [
      "be happy!\n"
     ]
    }
   ],
   "source": [
    "print([] or \"be happy!\")"
   ]
  },
  {
   "cell_type": "code",
   "execution_count": 21,
   "id": "ffd05b0e",
   "metadata": {},
   "outputs": [
    {
     "name": "stdout",
     "output_type": "stream",
     "text": [
      "()\n"
     ]
    }
   ],
   "source": [
    "print(None or ())"
   ]
  },
  {
   "cell_type": "code",
   "execution_count": 22,
   "id": "62ee967b",
   "metadata": {},
   "outputs": [
    {
     "name": "stdout",
     "output_type": "stream",
     "text": [
      "0\n"
     ]
    }
   ],
   "source": [
    "print({} or 0)"
   ]
  },
  {
   "cell_type": "code",
   "execution_count": 23,
   "id": "21cc3da7",
   "metadata": {},
   "outputs": [
    {
     "name": "stdout",
     "output_type": "stream",
     "text": [
      "{0}\n"
     ]
    }
   ],
   "source": [
    "print({0} or False)"
   ]
  },
  {
   "cell_type": "markdown",
   "id": "241f7bcd",
   "metadata": {},
   "source": [
    "- kadayıf\n",
    "- iç\n",
    "  - ceviz\n",
    "  - fındık \n",
    "  - fıstık\n",
    "- şerbet\n",
    "  - şeker\n",
    "  - su\n",
    "- yumurta"
   ]
  },
  {
   "cell_type": "code",
   "execution_count": 31,
   "id": "7cf2bb26",
   "metadata": {},
   "outputs": [
    {
     "data": {
      "text/plain": [
       "True"
      ]
     },
     "execution_count": 31,
     "metadata": {},
     "output_type": "execute_result"
    }
   ],
   "source": [
    "kadayıf = True\n",
    "\n",
    "\n",
    "# iç\n",
    "fındık = True\n",
    "fıstık = True\n",
    "ceviz = True\n",
    "\n",
    "#şerbet\n",
    "su = True\n",
    "şeker = True\n",
    "\n",
    "yumurta = True\n",
    "\n",
    "# içecek\n",
    "çay = True\n",
    "meşrubat = True\n",
    "limonata = True\n",
    "\n",
    "\n",
    "yedim = kadayıf and (fındık or fıstık or ceviz) and (su and şeker) and yumurta and (çay or meşrubat or limonata)\n",
    "yedim"
   ]
  },
  {
   "cell_type": "markdown",
   "id": "b16ca29d",
   "metadata": {},
   "source": [
    "- stringler"
   ]
  },
  {
   "cell_type": "code",
   "execution_count": 33,
   "id": "4cc83427",
   "metadata": {},
   "outputs": [
    {
     "data": {
      "text/plain": [
       "'s'"
      ]
     },
     "execution_count": 33,
     "metadata": {},
     "output_type": "execute_result"
    }
   ],
   "source": [
    "\"clarus\"[5]  # [] stringlerin indexlenmesi bunla yapılır."
   ]
  },
  {
   "cell_type": "code",
   "execution_count": 34,
   "id": "69c6d284",
   "metadata": {},
   "outputs": [
    {
     "data": {
      "text/plain": [
       "'clarus'"
      ]
     },
     "execution_count": 34,
     "metadata": {},
     "output_type": "execute_result"
    }
   ],
   "source": [
    "okul = \"clarus\"\n",
    "okul"
   ]
  },
  {
   "cell_type": "code",
   "execution_count": 35,
   "id": "ecd9efa6",
   "metadata": {},
   "outputs": [
    {
     "data": {
      "text/plain": [
       "'s'"
      ]
     },
     "execution_count": 35,
     "metadata": {},
     "output_type": "execute_result"
    }
   ],
   "source": [
    "okul[5]"
   ]
  },
  {
   "cell_type": "code",
   "execution_count": 36,
   "id": "23463b36",
   "metadata": {},
   "outputs": [
    {
     "data": {
      "text/plain": [
       "'ar'"
      ]
     },
     "execution_count": 36,
     "metadata": {},
     "output_type": "execute_result"
    }
   ],
   "source": [
    "okul[2:4]"
   ]
  },
  {
   "cell_type": "code",
   "execution_count": 39,
   "id": "4df8d7e3",
   "metadata": {},
   "outputs": [
    {
     "name": "stdout",
     "output_type": "stream",
     "text": [
      "hoenix\n",
      "Phoeni\n",
      "Ponx\n",
      "hei\n",
      "nix\n",
      "xnoP\n",
      "hoe\n",
      "hoe\n",
      "hoe\n"
     ]
    }
   ],
   "source": [
    "city = \"Phoenix\"\n",
    "print(city[1:])\n",
    "print(city[:6])\n",
    "print(city[::2])\n",
    "print(city[1::2])\n",
    "print(city[-3:])\n",
    "print(city[::-2])  # negative step starts from -1, pozitive step starts from 0\n",
    "print(city[1:-3])  #bundan sonraki yazılanların hepsinin aynı sonucu verdiğine dikkat et\n",
    "print(city[-6:4])\n",
    "print(city[1:4])"
   ]
  },
  {
   "cell_type": "code",
   "execution_count": 40,
   "id": "61559d27",
   "metadata": {},
   "outputs": [
    {
     "name": "stdout",
     "output_type": "stream",
     "text": [
      "ipopotamus\n",
      "hipopo\n",
      "hpptms\n",
      "ioo\n",
      "mus\n",
      "sumatopopih\n"
     ]
    }
   ],
   "source": [
    "animal = \"hipopotamus\"\n",
    "print(animal[1:])\n",
    "print(animal[:6])\n",
    "print(animal[::2])\n",
    "print(animal[1:7:2])\n",
    "print(animal[-3:])\n",
    "print(animal[::-1])"
   ]
  },
  {
   "cell_type": "markdown",
   "id": "cd7219b8",
   "metadata": {},
   "source": [
    "-len "
   ]
  },
  {
   "cell_type": "code",
   "execution_count": 41,
   "id": "0e9f32a8",
   "metadata": {},
   "outputs": [
    {
     "ename": "TypeError",
     "evalue": "object of type 'int' has no len()",
     "output_type": "error",
     "traceback": [
      "\u001b[1;31m---------------------------------------------------------------------------\u001b[0m",
      "\u001b[1;31mTypeError\u001b[0m                                 Traceback (most recent call last)",
      "\u001b[1;32m<ipython-input-41-78f9f1414c1d>\u001b[0m in \u001b[0;36m<module>\u001b[1;34m\u001b[0m\n\u001b[1;32m----> 1\u001b[1;33m \u001b[0mlen\u001b[0m\u001b[1;33m(\u001b[0m\u001b[1;36m555\u001b[0m\u001b[1;33m)\u001b[0m\u001b[1;33m\u001b[0m\u001b[1;33m\u001b[0m\u001b[0m\n\u001b[0m",
      "\u001b[1;31mTypeError\u001b[0m: object of type 'int' has no len()"
     ]
    }
   ],
   "source": [
    "len(555)  # iterible ( sayılabilir) olmadığı için error verir"
   ]
  },
  {
   "cell_type": "code",
   "execution_count": 42,
   "id": "01e31a30",
   "metadata": {},
   "outputs": [
    {
     "data": {
      "text/plain": [
       "'clarusway okulu'"
      ]
     },
     "execution_count": 42,
     "metadata": {},
     "output_type": "execute_result"
    }
   ],
   "source": [
    "isim =\"clarusway okulu\"\n",
    "isim"
   ]
  },
  {
   "cell_type": "code",
   "execution_count": 43,
   "id": "f632c177",
   "metadata": {},
   "outputs": [
    {
     "data": {
      "text/plain": [
       "'rusw'"
      ]
     },
     "execution_count": 43,
     "metadata": {},
     "output_type": "execute_result"
    }
   ],
   "source": [
    "isim[3:7]"
   ]
  },
  {
   "cell_type": "code",
   "execution_count": 44,
   "id": "14de8b03",
   "metadata": {},
   "outputs": [
    {
     "data": {
      "text/plain": [
       "' '"
      ]
     },
     "execution_count": 44,
     "metadata": {},
     "output_type": "execute_result"
    }
   ],
   "source": [
    "isim[9]  #boşlukta bir karakter"
   ]
  },
  {
   "cell_type": "code",
   "execution_count": 45,
   "id": "399ffd63",
   "metadata": {},
   "outputs": [
    {
     "data": {
      "text/plain": [
       "'cauwyouu'"
      ]
     },
     "execution_count": 45,
     "metadata": {},
     "output_type": "execute_result"
    }
   ],
   "source": [
    "isim[::2]"
   ]
  },
  {
   "cell_type": "code",
   "execution_count": 46,
   "id": "348cc73e",
   "metadata": {},
   "outputs": [
    {
     "data": {
      "text/plain": [
       "'clarusway okulu'"
      ]
     },
     "execution_count": 46,
     "metadata": {},
     "output_type": "execute_result"
    }
   ],
   "source": [
    "isim[::]"
   ]
  },
  {
   "cell_type": "code",
   "execution_count": 47,
   "id": "acd9a1d2",
   "metadata": {},
   "outputs": [
    {
     "data": {
      "text/plain": [
       "'uluko yawsuralc'"
      ]
     },
     "execution_count": 47,
     "metadata": {},
     "output_type": "execute_result"
    }
   ],
   "source": [
    "isim[::-1]"
   ]
  },
  {
   "cell_type": "code",
   "execution_count": 48,
   "id": "fe4ed971",
   "metadata": {},
   "outputs": [
    {
     "data": {
      "text/plain": [
       "'rusway '"
      ]
     },
     "execution_count": 48,
     "metadata": {},
     "output_type": "execute_result"
    }
   ],
   "source": [
    "isim[-12:10]"
   ]
  },
  {
   "cell_type": "code",
   "execution_count": 49,
   "id": "40574a7a",
   "metadata": {},
   "outputs": [
    {
     "data": {
      "text/plain": [
       "''"
      ]
     },
     "execution_count": 49,
     "metadata": {},
     "output_type": "execute_result"
    }
   ],
   "source": [
    "isim[-12:-5:-1]  # starttan stop a gitmek zorunda ters verirsek boş\"\" verir."
   ]
  },
  {
   "cell_type": "code",
   "execution_count": 51,
   "id": "b5fcdadc",
   "metadata": {},
   "outputs": [
    {
     "data": {
      "text/plain": [
       "'uko yaws'"
      ]
     },
     "execution_count": 51,
     "metadata": {},
     "output_type": "execute_result"
    }
   ],
   "source": [
    "isim[-3:-11:-1]"
   ]
  },
  {
   "cell_type": "code",
   "execution_count": 52,
   "id": "c3cbf194",
   "metadata": {},
   "outputs": [
    {
     "data": {
      "text/plain": [
       "''"
      ]
     },
     "execution_count": 52,
     "metadata": {},
     "output_type": "execute_result"
    }
   ],
   "source": [
    "isim[12:6]  # step boş brakıldığında aslında step :1 dir. o yüzden boş\"\" verir"
   ]
  },
  {
   "cell_type": "code",
   "execution_count": null,
   "id": "ebf231ea",
   "metadata": {},
   "outputs": [],
   "source": []
  }
 ],
 "metadata": {
  "kernelspec": {
   "display_name": "Python 3",
   "language": "python",
   "name": "python3"
  },
  "language_info": {
   "codemirror_mode": {
    "name": "ipython",
    "version": 3
   },
   "file_extension": ".py",
   "mimetype": "text/x-python",
   "name": "python",
   "nbconvert_exporter": "python",
   "pygments_lexer": "ipython3",
   "version": "3.8.8"
  }
 },
 "nbformat": 4,
 "nbformat_minor": 5
}
