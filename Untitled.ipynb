{
 "cells": [
  {
   "cell_type": "code",
   "execution_count": 1,
   "id": "82fb6479-425b-4a21-96ef-8d482713f203",
   "metadata": {},
   "outputs": [
    {
     "name": "stdout",
     "output_type": "stream",
     "text": [
      "ali/ali/ali/ali/ali/\n"
     ]
    }
   ],
   "source": [
    "word = \"ali\"\n",
    "repetition = 5\n",
    "seperator = \"/\"\n",
    "print(repetition * (word + seperator))"
   ]
  },
  {
   "cell_type": "code",
   "execution_count": 2,
   "id": "84c79f3f-81ad-4e45-8949-84b883cc93f0",
   "metadata": {},
   "outputs": [
    {
     "name": "stdout",
     "output_type": "stream",
     "text": [
      "-5\n"
     ]
    }
   ],
   "source": [
    "x = 2\n",
    "y = 3\n",
    "\n",
    "print((x*x) - (y*y))"
   ]
  },
  {
   "cell_type": "code",
   "execution_count": null,
   "id": "f3a945ae-8e48-43e4-9f0a-8e7840a0519b",
   "metadata": {},
   "outputs": [],
   "source": []
  }
 ],
 "metadata": {
  "kernelspec": {
   "display_name": "Python 3",
   "language": "python",
   "name": "python3"
  },
  "language_info": {
   "codemirror_mode": {
    "name": "ipython",
    "version": 3
   },
   "file_extension": ".py",
   "mimetype": "text/x-python",
   "name": "python",
   "nbconvert_exporter": "python",
   "pygments_lexer": "ipython3",
   "version": "3.8.8"
  }
 },
 "nbformat": 4,
 "nbformat_minor": 5
}
