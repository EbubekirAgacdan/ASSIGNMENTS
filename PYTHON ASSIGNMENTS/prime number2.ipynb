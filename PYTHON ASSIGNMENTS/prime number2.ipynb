{
 "cells": [
  {
   "cell_type": "code",
   "execution_count": 1,
   "metadata": {},
   "outputs": [
    {
     "name": "stdout",
     "output_type": "stream",
     "text": [
      "[2, 3, 5, 7, 11, 13, 17, 19, 23, 29, 31, 37, 41, 43, 47, 53, 59, 61, 67, 71, 73, 79, 83, 89, 97]\n"
     ]
    }
   ],
   "source": [
    "n=int(input(\"Please enter prime numbers limit(1-n): \"))\n",
    "prime_list=[]\n",
    "for i in range(2,n+1):\n",
    "    count = 0\n",
    "    for j in range(1, i+1):\n",
    "        if not i % j:\n",
    "            count +=1\n",
    "    if (i==0) or (i==1) or (count>=3):  \n",
    "        continue\n",
    "    else:\n",
    "        prime_list.append(j)\n",
    "print(prime_list)"
   ]
  }
 ],
 "metadata": {
  "interpreter": {
   "hash": "445e6ade3c4bc3514364a042a5013135907c40fd1b151b894b401571d86d4848"
  },
  "kernelspec": {
   "display_name": "Python 3.10.1 64-bit",
   "language": "python",
   "name": "python3"
  },
  "language_info": {
   "codemirror_mode": {
    "name": "ipython",
    "version": 3
   },
   "file_extension": ".py",
   "mimetype": "text/x-python",
   "name": "python",
   "nbconvert_exporter": "python",
   "pygments_lexer": "ipython3",
   "version": "3.10.1"
  },
  "orig_nbformat": 4
 },
 "nbformat": 4,
 "nbformat_minor": 2
}
