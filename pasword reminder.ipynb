{
 "cells": [
  {
   "cell_type": "code",
   "execution_count": 3,
   "metadata": {},
   "outputs": [
    {
     "name": "stdout",
     "output_type": "stream",
     "text": [
      "Hello, Ebubekir! The password is : 12345\n"
     ]
    }
   ],
   "source": [
    "name = \"Ebubekir\"\n",
    "password = 12345\n",
    "a = input(\"Please enter your first name : \").title()\n",
    "if a != name :\n",
    "    print(\"Hello, {}! See you later.\".format(a))\n",
    "else :\n",
    "    print(\"Hello, {}! The password is : {}\".format(name,password))"
   ]
  }
 ],
 "metadata": {
  "interpreter": {
   "hash": "445e6ade3c4bc3514364a042a5013135907c40fd1b151b894b401571d86d4848"
  },
  "kernelspec": {
   "display_name": "Python 3.10.1 64-bit",
   "language": "python",
   "name": "python3"
  },
  "language_info": {
   "codemirror_mode": {
    "name": "ipython",
    "version": 3
   },
   "file_extension": ".py",
   "mimetype": "text/x-python",
   "name": "python",
   "nbconvert_exporter": "python",
   "pygments_lexer": "ipython3",
   "version": "3.10.1"
  },
  "orig_nbformat": 4
 },
 "nbformat": 4,
 "nbformat_minor": 2
}
