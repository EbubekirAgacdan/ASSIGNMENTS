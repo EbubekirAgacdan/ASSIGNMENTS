{
 "cells": [
  {
   "cell_type": "code",
   "execution_count": 3,
   "id": "0a5300bc-cccc-4420-a028-3f8a847fe950",
   "metadata": {},
   "outputs": [
    {
     "name": "stdout",
     "output_type": "stream",
     "text": [
      "Word                   :  Orange\n",
      "First letter           :  O\n",
      "Second letter          :  r\n",
      "3rd to 5th letters     :  ang\n",
      "Letter all after 3rd   :  ange\n"
     ]
    }
   ],
   "source": [
    "fruit = 'Orange'\n",
    "\n",
    "print('Word                   : ' , fruit)\n",
    "print('First letter           : ' , fruit[0])\n",
    "print('Second letter          : ' , fruit[1])\n",
    "print(\"3rd to 5th letters     : \" , fruit[2:5])\n",
    "print(\"Letter all after 3rd   : \" , fruit[2:])\n"
   ]
  },
  {
   "cell_type": "code",
   "execution_count": 18,
   "id": "f19379c5-5596-401a-94c4-1619f0880a22",
   "metadata": {},
   "outputs": [
    {
     "name": "stdout",
     "output_type": "stream",
     "text": [
      "Orange\n",
      "ange\n",
      "Or\n",
      "On\n"
     ]
    }
   ],
   "source": [
    "print(fruit[:])  #tüm elemanları döndürüyor\n",
    "print(fruit[2:])  # 2 dahil sonraki elemanları döndürüyor\n",
    "print(fruit[:2])  # 2'ye kadar olan, 0 ve 1. elemanı döndürüyor, 2 dahil değil**\n",
    "print(fruit[::3])  # 0. ve 3. elemanı döndürüyor"
   ]
  },
  {
   "cell_type": "code",
   "execution_count": 19,
   "id": "4c8c6478-f188-40fd-8e29-949c7a88f242",
   "metadata": {},
   "outputs": [
    {
     "name": "stdout",
     "output_type": "stream",
     "text": [
      "hoenix\n",
      "Phoeni\n",
      "Ponx\n",
      "hei\n",
      "nix\n",
      "xineohP\n"
     ]
    }
   ],
   "source": [
    "city = 'Phoenix'\n",
    "\n",
    "print(city[1:])  # starts from index 1 to the end\n",
    "print(city[:6])  # starts from zero to 5th index\n",
    "print(city[::2])  # starts from zero to end by 2 step\n",
    "print(city[1::2])  # starts from index 1 to the end by 2 step\n",
    "print(city[-3:])  # starts from index -3 to the end\n",
    "print(city[::-1])  # negative step starts from the end to zero"
   ]
  },
  {
   "cell_type": "code",
   "execution_count": 20,
   "id": "39ee2899-eedd-4680-be1c-75b92512cc6e",
   "metadata": {},
   "outputs": [
    {
     "name": "stdout",
     "output_type": "stream",
     "text": [
      "length of the word Tomato is : 6\n"
     ]
    }
   ],
   "source": [
    "vegetable = 'Tomato'\n",
    "\n",
    "print('length of the word', vegetable, 'is :', len(vegetable))"
   ]
  },
  {
   "cell_type": "code",
   "execution_count": 21,
   "id": "dbbbf4dd-d168-4c34-895f-3a8d155b9c21",
   "metadata": {},
   "outputs": [
    {
     "name": "stdout",
     "output_type": "stream",
     "text": [
      "clarusway\n"
     ]
    }
   ],
   "source": [
    "print(\"clarus\" + \"way\")"
   ]
  },
  {
   "cell_type": "code",
   "execution_count": 22,
   "id": "47928315-8b91-4c88-bc84-c5bf9a28550b",
   "metadata": {},
   "outputs": [
    {
     "name": "stdout",
     "output_type": "stream",
     "text": [
      "no way!no way!no way!\n"
     ]
    }
   ],
   "source": [
    "print(3 * \"no way!\")"
   ]
  },
  {
   "cell_type": "code",
   "execution_count": 23,
   "id": "90218e87-7f7b-4a0d-b514-c898cf47c508",
   "metadata": {},
   "outputs": [
    {
     "name": "stdout",
     "output_type": "stream",
     "text": [
      "using + : OrangeTomato\n",
      "using * : OrangeOrangeOrange\n"
     ]
    }
   ],
   "source": [
    "fruit = 'Orange'\n",
    "vegetable = 'Tomato'\n",
    "print(\"using + :\", fruit + vegetable)\n",
    "print(\"using * :\", 3 * fruit)"
   ]
  },
  {
   "cell_type": "code",
   "execution_count": 24,
   "id": "eb97d797-dbeb-4a82-ae9f-5b950ca16274",
   "metadata": {},
   "outputs": [
    {
     "name": "stdout",
     "output_type": "stream",
     "text": [
      "orange apple\n"
     ]
    }
   ],
   "source": [
    "fruit = 'orange'\n",
    "fruit += ' apple'\n",
    "\n",
    "print(fruit)"
   ]
  },
  {
   "cell_type": "code",
   "execution_count": 27,
   "id": "49775e4f-8775-4348-a5c3-3702b01548ed",
   "metadata": {},
   "outputs": [
    {
     "name": "stdout",
     "output_type": "stream",
     "text": [
      "orange apple banana apricot\n"
     ]
    }
   ],
   "source": [
    "fruit = 'orange'\n",
    "fruit += ' apple'\n",
    "fruit += ' banana'\n",
    "fruit += ' apricot'\n",
    "\n",
    "print(fruit)"
   ]
  },
  {
   "cell_type": "code",
   "execution_count": 36,
   "id": "f69cdb48-5874-4d29-9cc3-5e345196aadf",
   "metadata": {},
   "outputs": [
    {
     "name": "stdout",
     "output_type": "stream",
     "text": [
      "I have 4 children and 5.00 brothers\n"
     ]
    }
   ],
   "source": [
    "phrase = 'I have %d %s and %.2f brothers' % (4, \"children\", 5)  \n",
    "print (phrase)"
   ]
  },
  {
   "cell_type": "code",
   "execution_count": 45,
   "id": "2f0fb64c-b0be-467d-a9ea-e65d199e994a",
   "metadata": {},
   "outputs": [
    {
     "name": "stdout",
     "output_type": "stream",
     "text": [
      "245 boy 5.000\n"
     ]
    }
   ],
   "source": [
    "x = '%d %s %.3f' % (245,\"boy\", 5)\n",
    "print(x)"
   ]
  },
  {
   "cell_type": "code",
   "execution_count": 46,
   "id": "968990bc-509d-46a2-a076-822ee640c976",
   "metadata": {},
   "outputs": [
    {
     "name": "stdout",
     "output_type": "stream",
     "text": [
      "apologizing\n"
     ]
    }
   ],
   "source": [
    "sentence = \"apologizing is a virtue\"\n",
    "\n",
    "print(\"%.11s\" % sentence)  # we get first 11 characters of the string"
   ]
  },
  {
   "cell_type": "code",
   "execution_count": 47,
   "id": "9fc9e15f-cf23-4484-9d69-eddd13b06dd8",
   "metadata": {},
   "outputs": [
    {
     "name": "stdout",
     "output_type": "stream",
     "text": [
      "33 pounds of bananas left\n"
     ]
    }
   ],
   "source": [
    "print('%(amount)d pounds of %(fruit)s left' % {'amount': 33, 'fruit':'bananas'})"
   ]
  },
  {
   "cell_type": "code",
   "execution_count": 49,
   "id": "4fc0e7d9-72c5-468d-bf5e-6061c23878f3",
   "metadata": {},
   "outputs": [
    {
     "name": "stdout",
     "output_type": "stream",
     "text": [
      "The amount of Orange we bought is 4 pounds\n"
     ]
    }
   ],
   "source": [
    "fruit = 'Orange'\n",
    "vegetable = 'Tomato'\n",
    "amount = 4\n",
    "print('The amount of {} we bought is {} pounds'.format(fruit, amount))"
   ]
  },
  {
   "cell_type": "code",
   "execution_count": 50,
   "id": "290528b4-9d4b-43ab-87f5-78ea57561bba",
   "metadata": {},
   "outputs": [
    {
     "name": "stdout",
     "output_type": "stream",
     "text": [
      "California is the most crowded state of the USA\n"
     ]
    }
   ],
   "source": [
    "print('{state} is the most {adjective} state of the {country}'.format(state='California', country='USA', adjective='crowded'))"
   ]
  },
  {
   "cell_type": "code",
   "execution_count": 60,
   "id": "caaa6b16-cf82-4842-9e00-2df86132114f",
   "metadata": {},
   "outputs": [
    {
     "name": "stdout",
     "output_type": "stream",
     "text": [
      "California is the most crowded state of the USA\n"
     ]
    }
   ],
   "source": [
    "print('{0} is the most {adjective} state of the {country}'.format('California', country='USA', adjective='crowded'))"
   ]
  },
  {
   "cell_type": "code",
   "execution_count": 61,
   "id": "bb965c46-bb4e-42b5-8a4d-d67f29bedb18",
   "metadata": {},
   "outputs": [
    {
     "name": "stdout",
     "output_type": "stream",
     "text": [
      "I will have found a job in 6 months\n"
     ]
    }
   ],
   "source": [
    "print(\"{6} {0} {5} {3} {4} {1} {2}\".format('have', 6, 'months', 'a job', 'in', 'found', 'I will'))"
   ]
  },
  {
   "cell_type": "code",
   "execution_count": 63,
   "id": "63b0ce5b-46af-4f6a-80f1-003f11972b50",
   "metadata": {},
   "outputs": [
    {
     "name": "stdout",
     "output_type": "stream",
     "text": [
      "Good teachers know how to bring out the best in students.\n"
     ]
    }
   ],
   "source": [
    "print(\"{9} {7} {1} {10} {3} {2} {5} {8} {6} {0} {4}\".format('in', 'know', 'bring', 'to', 'students.', 'out', 'best', 'teachers', 'the', 'Good', 'how'))"
   ]
  },
  {
   "cell_type": "code",
   "execution_count": 64,
   "id": "2ff58e9a-8088-4019-819e-ac02ce9ca01c",
   "metadata": {},
   "outputs": [
    {
     "name": "stdout",
     "output_type": "stream",
     "text": [
      "The amount of Orange and Tomato we bought are totally 6 pounds\n"
     ]
    }
   ],
   "source": [
    "fruit = 'Orange'\n",
    "vegetable = 'Tomato'\n",
    "amount = 6\n",
    "output = f\"The amount of {fruit} and {vegetable} we bought are totally {amount} pounds\"\n",
    "\n",
    "print(output)"
   ]
  },
  {
   "cell_type": "code",
   "execution_count": 65,
   "id": "211f9fcf-bebd-467b-bdb8-fb58465151a2",
   "metadata": {},
   "outputs": [
    {
     "name": "stdout",
     "output_type": "stream",
     "text": [
      "20\n"
     ]
    }
   ],
   "source": [
    "result = f\"{4 * 5}\"\n",
    "\n",
    "print(result)"
   ]
  },
  {
   "cell_type": "code",
   "execution_count": 68,
   "id": "81212af3-1a51-4678-b9f4-f096406e53b7",
   "metadata": {},
   "outputs": [
    {
     "name": "stdout",
     "output_type": "stream",
     "text": [
      "My name is Joseph\n"
     ]
    }
   ],
   "source": [
    "my_name = 'JOSEPH'\n",
    "output = f\"My name is {my_name.capitalize()}\"\n",
    "\n",
    "print(output)"
   ]
  },
  {
   "cell_type": "code",
   "execution_count": 69,
   "id": "44b2ea1b-7023-4021-a26d-d9b2ca419a2f",
   "metadata": {},
   "outputs": [
    {
     "name": "stdout",
     "output_type": "stream",
     "text": [
      "Hi Joseph. You are one of the teachers in the Data Science section.\n"
     ]
    }
   ],
   "source": [
    "name = \"Joseph\"\n",
    "job = \"teachers\"\n",
    "domain = \"Data Science\"\n",
    "message = (\n",
    "     f\"Hi {name}. \"\n",
    "     f\"You are one of the {job} \"\n",
    "     f\"in the {domain} section.\"\n",
    ")\n",
    "print(message)"
   ]
  },
  {
   "cell_type": "code",
   "execution_count": 70,
   "id": "63d3ea3c-c77e-4e0c-9aae-ff7571501eda",
   "metadata": {},
   "outputs": [
    {
     "name": "stdout",
     "output_type": "stream",
     "text": [
      "Hi Joseph. You are one of the teachers in the Data Science section.\n"
     ]
    }
   ],
   "source": [
    "name = \"Joseph\"\n",
    "job = \"teachers\"\n",
    "domain = \"Data Science\"\n",
    "message = f\"Hi {name}. \" \\\n",
    "     f\"You are one of the {job} \" \\\n",
    "     f\"in the {domain} section.\"\n",
    "\n",
    "print(message)"
   ]
  },
  {
   "cell_type": "code",
   "execution_count": null,
   "id": "4dd6e32a-3d80-428c-ba13-2d894ced2c50",
   "metadata": {},
   "outputs": [],
   "source": []
  }
 ],
 "metadata": {
  "kernelspec": {
   "display_name": "Python 3",
   "language": "python",
   "name": "python3"
  },
  "language_info": {
   "codemirror_mode": {
    "name": "ipython",
    "version": 3
   },
   "file_extension": ".py",
   "mimetype": "text/x-python",
   "name": "python",
   "nbconvert_exporter": "python",
   "pygments_lexer": "ipython3",
   "version": "3.8.8"
  }
 },
 "nbformat": 4,
 "nbformat_minor": 5
}
