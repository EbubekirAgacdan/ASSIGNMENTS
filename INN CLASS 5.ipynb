{
 "cells": [
  {
   "cell_type": "code",
   "execution_count": 3,
   "id": "f837e1da",
   "metadata": {},
   "outputs": [
    {
     "name": "stdout",
     "output_type": "stream",
     "text": [
      "121121\n"
     ]
    }
   ],
   "source": [
    "sonuc = str((5+6) ** 2) + \"121\"\n",
    "print(sonuc)"
   ]
  },
  {
   "cell_type": "code",
   "execution_count": 4,
   "id": "a341b03b",
   "metadata": {},
   "outputs": [
    {
     "data": {
      "text/plain": [
       "'121121121121121121121121'"
      ]
     },
     "execution_count": 4,
     "metadata": {},
     "output_type": "execute_result"
    }
   ],
   "source": [
    "sonuc = (sonuc + sonuc) * 2\n",
    "sonuc"
   ]
  },
  {
   "cell_type": "code",
   "execution_count": 7,
   "id": "ee9a7ef5",
   "metadata": {},
   "outputs": [
    {
     "data": {
      "text/plain": [
       "'clarusway clarusway clarusway '"
      ]
     },
     "execution_count": 7,
     "metadata": {},
     "output_type": "execute_result"
    }
   ],
   "source": [
    "\"clarusway \" * 3"
   ]
  },
  {
   "cell_type": "code",
   "execution_count": 8,
   "id": "70b618c8",
   "metadata": {},
   "outputs": [
    {
     "name": "stdout",
     "output_type": "stream",
     "text": [
      "c l a r u s w a y\n"
     ]
    }
   ],
   "source": [
    "print(* \"clarusway\")"
   ]
  },
  {
   "cell_type": "code",
   "execution_count": null,
   "id": "d9c53f5c",
   "metadata": {},
   "outputs": [],
   "source": [
    "\"metodlar\".format"
   ]
  },
  {
   "cell_type": "code",
   "execution_count": 10,
   "id": "c38a46c5",
   "metadata": {},
   "outputs": [],
   "source": [
    "saat = \"05.00\"\n",
    "yer = \"Okul\"\n",
    "miktar = 2"
   ]
  },
  {
   "cell_type": "code",
   "execution_count": 11,
   "id": "d0340bc5",
   "metadata": {},
   "outputs": [
    {
     "data": {
      "text/plain": [
       "\"Ben sabah 05.00 uyandım Okul'a gittim. Gelirken de 2 kg elma aldım.\""
      ]
     },
     "execution_count": 11,
     "metadata": {},
     "output_type": "execute_result"
    }
   ],
   "source": [
    "\"Ben sabah {} uyandım {}'a gittim. Gelirken de {} kg elma aldım.\".format(saat, yer, miktar)"
   ]
  },
  {
   "cell_type": "code",
   "execution_count": 12,
   "id": "d8e4b01d",
   "metadata": {},
   "outputs": [
    {
     "data": {
      "text/plain": [
       "\"Ben sabah 04.00 uyandım ev'a gittim. Gelirken de 5 kg elma aldım.\""
      ]
     },
     "execution_count": 12,
     "metadata": {},
     "output_type": "execute_result"
    }
   ],
   "source": [
    "\"Ben sabah {saat} uyandım {yer}'a gittim. Gelirken de {miktar} kg elma aldım.\".format( yer = \"ev\", saat = \"04.00\", miktar = 5)"
   ]
  },
  {
   "cell_type": "code",
   "execution_count": 13,
   "id": "11bd8676",
   "metadata": {},
   "outputs": [
    {
     "data": {
      "text/plain": [
       "\"Ben sabah 05.00 uyandım Okul'a gittim. Gelirken de 2 kg elma aldım.\""
      ]
     },
     "execution_count": 13,
     "metadata": {},
     "output_type": "execute_result"
    }
   ],
   "source": [
    "\"Ben sabah {1} uyandım {0}'a gittim. Gelirken de {2} kg elma aldım.\".format(\"Okul\", \"05.00\", 2)"
   ]
  },
  {
   "cell_type": "code",
   "execution_count": 15,
   "id": "5a12f3c5",
   "metadata": {},
   "outputs": [
    {
     "data": {
      "text/plain": [
       "' generosity wins in all sircumstances'"
      ]
     },
     "execution_count": 15,
     "metadata": {},
     "output_type": "execute_result"
    }
   ],
   "source": [
    "phrase = \" {2} {3} {1} {0}\". format('sircumstances', 'in all', 'generosity', 'wins' )\n",
    "phrase"
   ]
  },
  {
   "cell_type": "code",
   "execution_count": 18,
   "id": "8d640e32",
   "metadata": {},
   "outputs": [
    {
     "name": "stdout",
     "output_type": "stream",
     "text": [
      "1111\n"
     ]
    }
   ],
   "source": [
    "text = f\"{str(11) + '11'}\"\n",
    "print(text)"
   ]
  },
  {
   "cell_type": "code",
   "execution_count": 19,
   "id": "6f6e6ea0",
   "metadata": {},
   "outputs": [
    {
     "name": "stdout",
     "output_type": "stream",
     "text": [
      "ali veli deli\n"
     ]
    }
   ],
   "source": [
    "text = f\"ali veli {'seli'.replace('s', 'd')}\"\n",
    "print(text)"
   ]
  },
  {
   "cell_type": "code",
   "execution_count": 20,
   "id": "e645652d",
   "metadata": {},
   "outputs": [
    {
     "name": "stdout",
     "output_type": "stream",
     "text": [
      "ali veli {'seli'.replace('s', 'd')}\n"
     ]
    }
   ],
   "source": [
    "text = \"ali veli {'seli'.replace('s', 'd')}\"\n",
    "print(text)"
   ]
  },
  {
   "cell_type": "code",
   "execution_count": 25,
   "id": "7fce7069",
   "metadata": {},
   "outputs": [
    {
     "name": "stdout",
     "output_type": "stream",
     "text": [
      "My name is Mariam\n"
     ]
    }
   ],
   "source": [
    "name = \"MARIAM\"\n",
    "text = f\"My name is {name.capitalize()}\"\n",
    "print(text)"
   ]
  },
  {
   "cell_type": "code",
   "execution_count": 35,
   "id": "0170767f",
   "metadata": {},
   "outputs": [
    {
     "data": {
      "text/plain": [
       "\"Ben sabah 05.00 uyandım Okul'a gittim. Gelirken de 2 kg elma aldım.\""
      ]
     },
     "execution_count": 35,
     "metadata": {},
     "output_type": "execute_result"
    }
   ],
   "source": [
    "\"Ben sabah {1} uyandım {0}'\\\n",
    "a gittim. Gelirken de {2} kg elm\\\n",
    "a aldım.\".format(\\\n",
    "\"Okul\", \"05.00\", 2)\n",
    "# ters \\ ile kodu istediğimiz yerden bölebiliriz."
   ]
  },
  {
   "cell_type": "code",
   "execution_count": 37,
   "id": "9f20bd30",
   "metadata": {},
   "outputs": [
    {
     "data": {
      "text/plain": [
       "'Susan is a young lady and she is a student at the CLRWY IT universty'"
      ]
     },
     "execution_count": 37,
     "metadata": {},
     "output_type": "execute_result"
    }
   ],
   "source": [
    "name = \"Susan\"\n",
    "age = \"young\"\n",
    "gender = \"lady\"\n",
    "school = \"CLRWY IT universty\"\n",
    "text = f\"{name} is \\\n",
    "a {age} {gender} and she \\\n",
    "is a student at the {school}\"\n",
    "text"
   ]
  },
  {
   "cell_type": "code",
   "execution_count": 39,
   "id": "c31682a1",
   "metadata": {},
   "outputs": [
    {
     "data": {
      "text/plain": [
       "1070.0"
      ]
     },
     "execution_count": 39,
     "metadata": {},
     "output_type": "execute_result"
    }
   ],
   "source": [
    "para = 1000\n",
    "para = para + para * 0.07  # pzts günü karı\n",
    "para"
   ]
  },
  {
   "cell_type": "code",
   "execution_count": 40,
   "id": "ff145c4c",
   "metadata": {},
   "outputs": [
    {
     "data": {
      "text/plain": [
       "1144.9"
      ]
     },
     "execution_count": 40,
     "metadata": {},
     "output_type": "execute_result"
    }
   ],
   "source": [
    "para = para + para * 0.07  # salı günü karı\n",
    "para"
   ]
  },
  {
   "cell_type": "code",
   "execution_count": 41,
   "id": "781109dd",
   "metadata": {},
   "outputs": [
    {
     "data": {
      "text/plain": [
       "1225.0430000000001"
      ]
     },
     "execution_count": 41,
     "metadata": {},
     "output_type": "execute_result"
    }
   ],
   "source": [
    "para = para + para * 0.07  # çrş günü karı\n",
    "para"
   ]
  },
  {
   "cell_type": "code",
   "execution_count": 42,
   "id": "821dec71",
   "metadata": {},
   "outputs": [
    {
     "data": {
      "text/plain": [
       "1310.79601"
      ]
     },
     "execution_count": 42,
     "metadata": {},
     "output_type": "execute_result"
    }
   ],
   "source": [
    "para = para + para * 0.07  # prş günü karı\n",
    "para"
   ]
  },
  {
   "cell_type": "code",
   "execution_count": 43,
   "id": "08f72c0b",
   "metadata": {},
   "outputs": [
    {
     "data": {
      "text/plain": [
       "1402.5517307"
      ]
     },
     "execution_count": 43,
     "metadata": {},
     "output_type": "execute_result"
    }
   ],
   "source": [
    "para = para + para * 0.07  # cum günü karı\n",
    "para"
   ]
  },
  {
   "cell_type": "code",
   "execution_count": 44,
   "id": "6283fcdb",
   "metadata": {},
   "outputs": [
    {
     "data": {
      "text/plain": [
       "1500.730351849"
      ]
     },
     "execution_count": 44,
     "metadata": {},
     "output_type": "execute_result"
    }
   ],
   "source": [
    "para = para + para * 0.07  # cmts günü karı\n",
    "para"
   ]
  },
  {
   "cell_type": "code",
   "execution_count": 45,
   "id": "dbae6234",
   "metadata": {},
   "outputs": [
    {
     "data": {
      "text/plain": [
       "1605.78147647843"
      ]
     },
     "execution_count": 45,
     "metadata": {},
     "output_type": "execute_result"
    }
   ],
   "source": [
    "para = para + para * 0.07  # pzr günü karı\n",
    "para"
   ]
  },
  {
   "cell_type": "markdown",
   "id": "9ad7bd3e",
   "metadata": {},
   "source": [
    "yeni yöntem"
   ]
  },
  {
   "cell_type": "code",
   "execution_count": 51,
   "id": "ff21fe64",
   "metadata": {},
   "outputs": [
    {
     "data": {
      "text/plain": [
       "1605.7814764784307"
      ]
     },
     "execution_count": 51,
     "metadata": {},
     "output_type": "execute_result"
    }
   ],
   "source": [
    "para = 1000\n",
    "# para = para + para * 0.07\n",
    "# para = para * (1 + 0.07)\n",
    "# para = para * 1.07           1. gün\n",
    "# para = para * 1.07 * 1.07    2.gün\n",
    "para = para * 1.07 ** 7      # 7. gün\n",
    "para"
   ]
  },
  {
   "cell_type": "code",
   "execution_count": null,
   "id": "dd1d36db",
   "metadata": {},
   "outputs": [],
   "source": []
  }
 ],
 "metadata": {
  "kernelspec": {
   "display_name": "Python 3",
   "language": "python",
   "name": "python3"
  },
  "language_info": {
   "codemirror_mode": {
    "name": "ipython",
    "version": 3
   },
   "file_extension": ".py",
   "mimetype": "text/x-python",
   "name": "python",
   "nbconvert_exporter": "python",
   "pygments_lexer": "ipython3",
   "version": "3.8.8"
  }
 },
 "nbformat": 4,
 "nbformat_minor": 5
}
