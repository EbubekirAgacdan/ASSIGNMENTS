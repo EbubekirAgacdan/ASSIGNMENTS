{
 "cells": [
  {
   "cell_type": "code",
   "execution_count": 1,
   "metadata": {},
   "outputs": [
    {
     "name": "stdout",
     "output_type": "stream",
     "text": [
      "[1, 1, 2, 3, 5, 8, 13, 21, 34, 55]\n"
     ]
    }
   ],
   "source": [
    "number=1\n",
    "a=0\n",
    "list=[number]\n",
    "for i in range(number,56):\n",
    "    if i==number:\n",
    "        list.append(number)\n",
    "        a+=1\n",
    "        number+=list[a-1]\n",
    "print(list)"
   ]
  },
  {
   "cell_type": "code",
   "execution_count": 4,
   "metadata": {},
   "outputs": [
    {
     "name": "stdout",
     "output_type": "stream",
     "text": [
      "[1, 1, 2, 3, 5, 8, 13, 21, 34, 55]\n"
     ]
    }
   ],
   "source": [
    "def fibonacci_number():\n",
    "    start_number=int(input(\"Please enter start number : \"))\n",
    "    finish_number=int(input(\"Please enter finish number : \"))\n",
    "    a=0\n",
    "    list=[start_number]\n",
    "    for i in range(start_number,finish_number+1):\n",
    "        if i==start_number:\n",
    "            list.append(start_number)\n",
    "            a+=1\n",
    "            start_number+=list[a-1]\n",
    "print(list)"
   ]
  },
  {
   "cell_type": "code",
   "execution_count": 5,
   "metadata": {},
   "outputs": [],
   "source": [
    "fibonacci_number()"
   ]
  },
  {
   "cell_type": "code",
   "execution_count": null,
   "metadata": {},
   "outputs": [],
   "source": []
  }
 ],
 "metadata": {
  "interpreter": {
   "hash": "445e6ade3c4bc3514364a042a5013135907c40fd1b151b894b401571d86d4848"
  },
  "kernelspec": {
   "display_name": "Python 3.10.1 64-bit",
   "language": "python",
   "name": "python3"
  },
  "language_info": {
   "codemirror_mode": {
    "name": "ipython",
    "version": 3
   },
   "file_extension": ".py",
   "mimetype": "text/x-python",
   "name": "python",
   "nbconvert_exporter": "python",
   "pygments_lexer": "ipython3",
   "version": "3.10.1"
  },
  "orig_nbformat": 4
 },
 "nbformat": 4,
 "nbformat_minor": 2
}
