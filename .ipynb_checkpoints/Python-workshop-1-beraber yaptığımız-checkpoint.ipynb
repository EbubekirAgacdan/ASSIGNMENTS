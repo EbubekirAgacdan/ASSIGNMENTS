{
 "cells": [
  {
   "cell_type": "markdown",
   "metadata": {},
   "source": [
    "<center><img src=\"https://github.com/aaron-clarusway/fullstack/blob/master/itf-logo.png?raw=true\"  alt=\"alt text\" width=\"200\"/></center>\n",
    "<br>\n",
    "<h1><p style=\"text-align: center; color:darkblue\">Python Basic</p><h1>\n",
    "<center><h1>Workshop - 1</h1></center>\n",
    "<p><img align=\"right\"\n",
    "  src=\"https://secure.meetupstatic.com/photos/event/3/1/b/9/600_488352729.jpeg\"  width=\"15px\"></p>\n",
    "<br>\n",
    "\n",
    "\n",
    "# Subject: Basic Data Types and Useful Operations\n",
    "\n",
    "## Learning Goals\n",
    "\n",
    "* to work with quotes in strings,\n",
    "* to practice basic data types,\n",
    "* to consolidate basic boolean operations."
   ]
  },
  {
   "cell_type": "markdown",
   "metadata": {},
   "source": [
    "### Problem 1\n",
    "\n",
    "Write a program that multiplies three numbers entered by the user. Print the output with the format method."
   ]
  },
  {
   "cell_type": "code",
   "execution_count": 5,
   "metadata": {},
   "outputs": [
    {
     "name": "stdin",
     "output_type": "stream",
     "text": [
      "Please enter a number :  15\n",
      "Please enter a number :  20\n",
      "Please enter a number :  25\n"
     ]
    },
    {
     "name": "stdout",
     "output_type": "stream",
     "text": [
      "7500\n",
      "15 * 20 * 25 = 7500\n",
      "15*20*25 = 7500\n",
      "15*20*25 = 7500\n"
     ]
    }
   ],
   "source": [
    "num_1 = int(input(\"Please enter a number : \"))\n",
    "num_2 = int(input(\"Please enter a number : \"))\n",
    "num_3 = int(input(\"Please enter a number : \"))\n",
    "output = num_1 * num_2 * num_3\n",
    "print(output)\n",
    "print('%d * %d * %d = %d' %(num_1, num_2, num_3, output))\n",
    "\n",
    "print(\"{}*{}*{} = {}\".format(num_1, num_2, num_3, output))\n",
    "\n",
    "print(f\"{num_1}*{num_2}*{num_3} = {output}\")"
   ]
  },
  {
   "cell_type": "markdown",
   "metadata": {},
   "source": [
    "### Problem 2\n",
    "\n",
    "Write a program that calculates body mass index from **height** and **weight** entered by the user. \n",
    "\n",
    "Body mass index :  Weight / Height(m) * Height(m)"
   ]
  },
  {
   "cell_type": "code",
   "execution_count": 9,
   "metadata": {},
   "outputs": [
    {
     "name": "stdin",
     "output_type": "stream",
     "text": [
      "Boyunuzu giriniz :  1.85\n",
      "Kilonuzu giriniz :  75\n"
     ]
    },
    {
     "name": "stdout",
     "output_type": "stream",
     "text": [
      "21.913805697589478\n"
     ]
    }
   ],
   "source": [
    "height = float(input(\"Boyunuzu giriniz : \"))\n",
    "weight = float(input(\"Kilonuzu giriniz : \"))\n",
    "\n",
    "body_mass = weight / height ** 2\n",
    "print(body_mass)"
   ]
  },
  {
   "cell_type": "markdown",
   "metadata": {},
   "source": [
    "### Problem 3\n",
    "\n",
    "With your $ 200, how many pieces of material can you get for $ 11 each? How much money do you have left after buying?"
   ]
  },
  {
   "cell_type": "code",
   "execution_count": 21,
   "metadata": {},
   "outputs": [
    {
     "name": "stdout",
     "output_type": "stream",
     "text": [
      "2\n",
      "Alınan ürün sayısı: 18\n",
      "kalan para: 2\n",
      "With your 300$, 27 pieces of materail you can get for  $11 each. The remaining_money is $3.\n"
     ]
    }
   ],
   "source": [
    "print(200%11)\n",
    "\n",
    "a= 200\n",
    "b= a//11\n",
    "kalan= a%11\n",
    "print(\"Alınan ürün sayısı:\",b)\n",
    "print(\"kalan para:\",kalan)\n",
    "\n",
    "total_money = 300\n",
    "material_price = 11\n",
    "piece = total_money//material_price\n",
    "remaining_money = total_money % piece\n",
    "remaining_money\n",
    "\n",
    "print(\"With your {}$, {} pieces of materail you can get for  ${} each. The remaining_money is ${}.\".format(total_money, piece, material_price, remaining_money))"
   ]
  },
  {
   "cell_type": "markdown",
   "metadata": {},
   "source": [
    "### Problem 4\n",
    "\n",
    "Ask the user for two numbers and assign these numbers to variables and replace the values of these variables with each other."
   ]
  },
  {
   "cell_type": "code",
   "execution_count": 38,
   "metadata": {},
   "outputs": [
    {
     "name": "stdin",
     "output_type": "stream",
     "text": [
      "Please enter the first number:  5\n",
      "Please enter the second number:  10\n"
     ]
    },
    {
     "name": "stdout",
     "output_type": "stream",
     "text": [
      "Before Switching; \n",
      "5 - 10\n",
      "After Switching; \n",
      "10 - 5\n"
     ]
    }
   ],
   "source": [
    "a = int(input(\"Please enter the first number: \"))\n",
    "b = int(input(\"Please enter the second number: \"))\n",
    "print(\"Before Switching; \")\n",
    "print(a,'-', b)\n",
    "temp = a \n",
    "a = b\n",
    "b = temp\n",
    "print(\"After Switching; \")\n",
    "print(a,'-', b)"
   ]
  },
  {
   "cell_type": "code",
   "execution_count": 22,
   "metadata": {},
   "outputs": [
    {
     "name": "stdin",
     "output_type": "stream",
     "text": [
      "Bir numara giriniz :  15\n",
      "Bir numara giriniz :  20\n"
     ]
    },
    {
     "name": "stdout",
     "output_type": "stream",
     "text": [
      "20 15\n"
     ]
    }
   ],
   "source": [
    "a = int(input(\"Bir numara giriniz : \"))\n",
    "b = int(input(\"Bir numara giriniz : \"))\n",
    "\n",
    "a, b = b, a\n",
    "\n",
    "print(a, b)"
   ]
  },
  {
   "cell_type": "markdown",
   "metadata": {},
   "source": [
    "### Problem 5\n",
    "\n",
    "Write a Python program to solve (x - y) * (x + y)."
   ]
  },
  {
   "cell_type": "code",
   "execution_count": 23,
   "metadata": {},
   "outputs": [
    {
     "name": "stdin",
     "output_type": "stream",
     "text": [
      "please enter a number :  2\n",
      "please enter a number :  3\n"
     ]
    },
    {
     "name": "stdout",
     "output_type": "stream",
     "text": [
      "-5\n"
     ]
    }
   ],
   "source": [
    "x = int(input(\"please enter a number : \"))\n",
    "y = int(input(\"please enter a number : \"))\n",
    "\n",
    "print((x*x) - (y*y))"
   ]
  },
  {
   "cell_type": "markdown",
   "metadata": {},
   "source": [
    "### Problem 6\n",
    "\n",
    "Get **word**, **seperator** and **repetition** values from the user and print the word on the screen according to the given values. \n",
    "\n",
    "Ex: ``word = ali, sep = /, repetition = 3`` ----> ``ali/ali/ali``"
   ]
  },
  {
   "cell_type": "code",
   "execution_count": 25,
   "metadata": {},
   "outputs": [
    {
     "name": "stdin",
     "output_type": "stream",
     "text": [
      "bir isim :  ebu\n",
      "bir sayı gir :  3\n",
      "ayraç gir :  //\n"
     ]
    },
    {
     "name": "stdout",
     "output_type": "stream",
     "text": [
      "ebu//ebu//ebu/\n"
     ]
    }
   ],
   "source": [
    "b = input(\"bir isim : \")\n",
    "a = int(input(\"bir sayı gir : \"))\n",
    "c = input(\"ayraç gir : \")\n",
    "d = (b + \",\")*a\n",
    "print(d.replace(\",\", c) + \"\\b\")\n",
    "\n"
   ]
  },
  {
   "cell_type": "code",
   "execution_count": 28,
   "metadata": {},
   "outputs": [
    {
     "name": "stdin",
     "output_type": "stream",
     "text": [
      "bir isim :  ebu\n",
      "bir sayı gir :  3\n",
      "ayraç gir :  //\n"
     ]
    },
    {
     "name": "stdout",
     "output_type": "stream",
     "text": [
      "ebu//ebu//ebu/\n"
     ]
    }
   ],
   "source": [
    "b = input(\"bir isim : \")\n",
    "a = int(input(\"bir sayı gir : \"))\n",
    "c = input(\"ayraç gir : \")\n",
    "d = (b + c)*a\n",
    "print(d + '\\b' )"
   ]
  },
  {
   "cell_type": "code",
   "execution_count": 31,
   "metadata": {},
   "outputs": [
    {
     "name": "stdin",
     "output_type": "stream",
     "text": [
      "please enter a word ebu\n",
      "please enter a seperator /\n",
      "please enter how many times to repeat 3\n"
     ]
    },
    {
     "name": "stdout",
     "output_type": "stream",
     "text": [
      "ebu/ebu/ebu\n"
     ]
    }
   ],
   "source": [
    "word = input(\"please enter a word\")\n",
    "seperator = input(\"please enter a seperator\")\n",
    "repetition = int(input(\"please enter how many times to repeat\"))\n",
    "print(repetition * (word + seperator) + '\\b')"
   ]
  },
  {
   "cell_type": "code",
   "execution_count": 33,
   "metadata": {},
   "outputs": [
    {
     "name": "stdin",
     "output_type": "stream",
     "text": [
      "Write a word : ahmet\n"
     ]
    },
    {
     "name": "stdout",
     "output_type": "stream",
     "text": [
      "ahmet/ahmet/ahmet\n",
      "ahmet/ahmet/ahmet\n"
     ]
    }
   ],
   "source": [
    "word1 = input(\"Write a word :\")\n",
    "print(\"{0}{1}{0}{1}{0}\".format(word1, '/'))\n",
    "print(word1, word1, word1, sep = '/')"
   ]
  },
  {
   "cell_type": "code",
   "execution_count": 36,
   "metadata": {},
   "outputs": [
    {
     "name": "stdin",
     "output_type": "stream",
     "text": [
      "Word:  ebu\n",
      "Seperator:  ///\n",
      "repetitions:  4\n"
     ]
    },
    {
     "data": {
      "text/plain": [
       "'ebu///ebu///ebu///ebu'"
      ]
     },
     "execution_count": 36,
     "metadata": {},
     "output_type": "execute_result"
    }
   ],
   "source": [
    "word = input(\"Word: \")\n",
    "seperator = input(\"Seperator: \")\n",
    "repetitions = int(input(\"repetitions: \"))\n",
    "a = (word + seperator) * (repetitions -1) + word\n",
    "a"
   ]
  },
  {
   "cell_type": "code",
   "execution_count": 32,
   "metadata": {},
   "outputs": [
    {
     "name": "stdout",
     "output_type": "stream",
     "text": [
      "Kerem/Kerem/Kerem\n"
     ]
    }
   ],
   "source": [
    "word = \"Kerem\"\n",
    "print(word, word, word, sep ='/')"
   ]
  },
  {
   "cell_type": "code",
   "execution_count": 37,
   "metadata": {},
   "outputs": [
    {
     "name": "stdin",
     "output_type": "stream",
     "text": [
      "please enter a word ebu\n",
      "please enter a seperator ///\n",
      "please enter how many times to repeat 4\n"
     ]
    },
    {
     "name": "stdout",
     "output_type": "stream",
     "text": [
      "ebu///ebu///ebu///ebu\n"
     ]
    }
   ],
   "source": [
    "word = input(\"please enter a word\")\n",
    "seperator = input(\"please enter a seperator\")\n",
    "repetition = int(input(\"please enter how many times to repeat\"))\n",
    "sonuc = repetition * (word + seperator)\n",
    "print(sonuc[:-len(seperator)])"
   ]
  },
  {
   "cell_type": "markdown",
   "metadata": {},
   "source": [
    "### Problem 7\n",
    "\n",
    ">Do not run the code, try to figure out in your mind.\n",
    "\n",
    "What will be the output of the following syntax :\n",
    "\n",
    "```python\n",
    "print(True and False and (not True and False) and not (True or False))\n",
    "```"
   ]
  },
  {
   "cell_type": "code",
   "execution_count": null,
   "metadata": {},
   "outputs": [],
   "source": [
    "False"
   ]
  },
  {
   "cell_type": "code",
   "execution_count": 39,
   "metadata": {},
   "outputs": [
    {
     "name": "stdout",
     "output_type": "stream",
     "text": [
      "0\n"
     ]
    }
   ],
   "source": [
    "print(True and 0 and (not True and False) and not (True or False))"
   ]
  },
  {
   "cell_type": "markdown",
   "metadata": {},
   "source": [
    "### Problem 8\n",
    "\n",
    ">Do not run the code, try to figure out in your mind.\n",
    "\n",
    "What will be the output of the following syntax :\n",
    "\n",
    "```python\n",
    "print(True and False and not \"False\" and None and (\"None\" or None))\n",
    "```"
   ]
  },
  {
   "cell_type": "code",
   "execution_count": null,
   "metadata": {},
   "outputs": [],
   "source": [
    "False"
   ]
  },
  {
   "cell_type": "code",
   "execution_count": null,
   "metadata": {},
   "outputs": [],
   "source": [
    "print(True and False and not \"False\" and None and (\"None\" or None))"
   ]
  },
  {
   "cell_type": "markdown",
   "metadata": {},
   "source": [
    "### Problem 9\n",
    "\n",
    ">Do not run the code, try to figure out in your mind.\n",
    "\n",
    "What will be the output of the following syntax :\n",
    "\n",
    "```python\n",
    "print(\"clarusway\" and 0 and not \"\" and False and (\" \" or None))\n",
    "```"
   ]
  },
  {
   "cell_type": "code",
   "execution_count": 42,
   "metadata": {},
   "outputs": [
    {
     "name": "stdout",
     "output_type": "stream",
     "text": [
      " \n"
     ]
    }
   ],
   "source": [
    "print(\"clarusway\" and 0 and not \"\" and False or (\" \" or None))"
   ]
  },
  {
   "cell_type": "code",
   "execution_count": null,
   "metadata": {},
   "outputs": [],
   "source": [
    "0"
   ]
  }
 ],
 "metadata": {
  "interpreter": {
   "hash": "468f25ad0239460415b7e6b7483d5c8f7213894121f6fb96c4cb6ef93fffe534"
  },
  "kernelspec": {
   "display_name": "Python 3",
   "language": "python",
   "name": "python3"
  },
  "language_info": {
   "codemirror_mode": {
    "name": "ipython",
    "version": 3
   },
   "file_extension": ".py",
   "mimetype": "text/x-python",
   "name": "python",
   "nbconvert_exporter": "python",
   "pygments_lexer": "ipython3",
   "version": "3.8.8"
  }
 },
 "nbformat": 4,
 "nbformat_minor": 4
}
