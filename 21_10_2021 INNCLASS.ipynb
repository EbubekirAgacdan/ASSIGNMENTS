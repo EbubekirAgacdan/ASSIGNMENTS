{
 "cells": [
  {
   "cell_type": "code",
   "execution_count": 2,
   "id": "d9f0894b",
   "metadata": {},
   "outputs": [
    {
     "data": {
      "text/plain": [
       "(0, 1, 2, 3, 4, 5, 6, 7, 8, 9)"
      ]
     },
     "execution_count": 2,
     "metadata": {},
     "output_type": "execute_result"
    }
   ],
   "source": [
    "tuple(range(10))"
   ]
  },
  {
   "cell_type": "code",
   "execution_count": 3,
   "id": "45bde91e",
   "metadata": {},
   "outputs": [
    {
     "data": {
      "text/plain": [
       "range(1, 11)"
      ]
     },
     "execution_count": 3,
     "metadata": {},
     "output_type": "execute_result"
    }
   ],
   "source": [
    "range(1,11)"
   ]
  },
  {
   "cell_type": "code",
   "execution_count": 4,
   "id": "694971f3",
   "metadata": {},
   "outputs": [],
   "source": [
    "sayılar = range(1, 11)"
   ]
  },
  {
   "cell_type": "code",
   "execution_count": 5,
   "id": "2c3ec737",
   "metadata": {},
   "outputs": [
    {
     "data": {
      "text/plain": [
       "(1, 2, 3, 4, 5, 6, 7, 8, 9, 10)"
      ]
     },
     "execution_count": 5,
     "metadata": {},
     "output_type": "execute_result"
    }
   ],
   "source": [
    "tuple(sayılar)"
   ]
  },
  {
   "cell_type": "code",
   "execution_count": 6,
   "id": "b6ac0f01",
   "metadata": {},
   "outputs": [
    {
     "data": {
      "text/plain": [
       "[1, 2, 3, 4, 5, 6, 7, 8, 9, 10]"
      ]
     },
     "execution_count": 6,
     "metadata": {},
     "output_type": "execute_result"
    }
   ],
   "source": [
    "list(sayılar)"
   ]
  },
  {
   "cell_type": "code",
   "execution_count": 7,
   "id": "d79d9db7",
   "metadata": {},
   "outputs": [
    {
     "name": "stdout",
     "output_type": "stream",
     "text": [
      "0\n",
      "2\n",
      "4\n"
     ]
    },
    {
     "ename": "IndexError",
     "evalue": "tuple index out of range",
     "output_type": "error",
     "traceback": [
      "\u001b[1;31m---------------------------------------------------------------------------\u001b[0m",
      "\u001b[1;31mIndexError\u001b[0m                                Traceback (most recent call last)",
      "\u001b[1;32m<ipython-input-7-d085d9a10e8d>\u001b[0m in \u001b[0;36m<module>\u001b[1;34m\u001b[0m\n\u001b[0;32m      3\u001b[0m \u001b[0mprint\u001b[0m\u001b[1;33m(\u001b[0m\u001b[0meven_no\u001b[0m\u001b[1;33m[\u001b[0m\u001b[1;36m1\u001b[0m\u001b[1;33m]\u001b[0m\u001b[1;33m)\u001b[0m\u001b[1;33m\u001b[0m\u001b[1;33m\u001b[0m\u001b[0m\n\u001b[0;32m      4\u001b[0m \u001b[0mprint\u001b[0m\u001b[1;33m(\u001b[0m\u001b[0meven_no\u001b[0m\u001b[1;33m[\u001b[0m\u001b[1;36m2\u001b[0m\u001b[1;33m]\u001b[0m\u001b[1;33m)\u001b[0m\u001b[1;33m\u001b[0m\u001b[1;33m\u001b[0m\u001b[0m\n\u001b[1;32m----> 5\u001b[1;33m \u001b[0mprint\u001b[0m\u001b[1;33m(\u001b[0m\u001b[0meven_no\u001b[0m\u001b[1;33m[\u001b[0m\u001b[1;36m3\u001b[0m\u001b[1;33m]\u001b[0m\u001b[1;33m)\u001b[0m\u001b[1;33m\u001b[0m\u001b[1;33m\u001b[0m\u001b[0m\n\u001b[0m",
      "\u001b[1;31mIndexError\u001b[0m: tuple index out of range"
     ]
    }
   ],
   "source": [
    "even_no = (0, 2, 4)\n",
    "print(even_no[0])\n",
    "print(even_no[1])\n",
    "print(even_no[2])\n",
    "print(even_no[3])"
   ]
  },
  {
   "cell_type": "code",
   "execution_count": 8,
   "id": "d8e3b2bd",
   "metadata": {},
   "outputs": [
    {
     "ename": "TypeError",
     "evalue": "'range' object does not support item assignment",
     "output_type": "error",
     "traceback": [
      "\u001b[1;31m---------------------------------------------------------------------------\u001b[0m",
      "\u001b[1;31mTypeError\u001b[0m                                 Traceback (most recent call last)",
      "\u001b[1;32m<ipython-input-8-6c5b27ce659a>\u001b[0m in \u001b[0;36m<module>\u001b[1;34m\u001b[0m\n\u001b[1;32m----> 1\u001b[1;33m \u001b[0msayılar\u001b[0m\u001b[1;33m[\u001b[0m\u001b[1;36m2\u001b[0m\u001b[1;33m]\u001b[0m \u001b[1;33m=\u001b[0m \u001b[1;36m33\u001b[0m\u001b[1;33m\u001b[0m\u001b[1;33m\u001b[0m\u001b[0m\n\u001b[0m",
      "\u001b[1;31mTypeError\u001b[0m: 'range' object does not support item assignment"
     ]
    }
   ],
   "source": [
    "sayılar[2] = 33"
   ]
  },
  {
   "cell_type": "code",
   "execution_count": 9,
   "id": "806df134",
   "metadata": {},
   "outputs": [
    {
     "data": {
      "text/plain": [
       "'six'"
      ]
     },
     "execution_count": 9,
     "metadata": {},
     "output_type": "execute_result"
    }
   ],
   "source": [
    "mix_tuple = ('11', 11, [2, 'two', ('six', 6)], (5, 'fair'))\n",
    "mix_tuple[2][2][0]"
   ]
  },
  {
   "cell_type": "code",
   "execution_count": 12,
   "id": "0093b15a",
   "metadata": {},
   "outputs": [
    {
     "data": {
      "text/plain": [
       "('11', 11, [2, 'two', ('six', 6), False, False], (5, 'fair'))"
      ]
     },
     "execution_count": 12,
     "metadata": {},
     "output_type": "execute_result"
    }
   ],
   "source": [
    "mix_tuple[2].append(False)  # tuple değiştirilemez ama içerisindeki liste değiştirilebilir.\n",
    "mix_tuple"
   ]
  },
  {
   "cell_type": "code",
   "execution_count": null,
   "id": "2fc9a360",
   "metadata": {},
   "outputs": [],
   "source": [
    "mix_tuple = ('11', 11, [2, 'two', ('six', 6)], (5, 'fair'))"
   ]
  },
  {
   "cell_type": "code",
   "execution_count": 14,
   "id": "1cf6143a",
   "metadata": {},
   "outputs": [
    {
     "name": "stdout",
     "output_type": "stream",
     "text": [
      "['two', ('six', 6)]\n",
      "<class 'list'>\n"
     ]
    }
   ],
   "source": [
    "str_six = mix_tuple[2][1:3]\n",
    "print(str_six, type(str_six), sep=\"\\n\")"
   ]
  },
  {
   "cell_type": "markdown",
   "id": "c3493c83",
   "metadata": {},
   "source": [
    "# Dictionaries"
   ]
  },
  {
   "cell_type": "code",
   "execution_count": 16,
   "id": "0e61fcd1",
   "metadata": {},
   "outputs": [
    {
     "data": {
      "text/plain": [
       "{1: 'one', 'two': 2, False: [1, 2, 3], 1.5: ('one', 'two'), (1, 2): 'clrswy'}"
      ]
     },
     "execution_count": 16,
     "metadata": {},
     "output_type": "execute_result"
    }
   ],
   "source": [
    "first_dict = {1:\"one\", \"two\":2, False:[1,2,3], 1.5:(\"one\",\"two\"), (1,2):\"clrswy\"}\n",
    "first_dict"
   ]
  },
  {
   "cell_type": "code",
   "execution_count": 17,
   "id": "6833db9b",
   "metadata": {},
   "outputs": [
    {
     "ename": "TypeError",
     "evalue": "unhashable type: 'list'",
     "output_type": "error",
     "traceback": [
      "\u001b[1;31m---------------------------------------------------------------------------\u001b[0m",
      "\u001b[1;31mTypeError\u001b[0m                                 Traceback (most recent call last)",
      "\u001b[1;32m<ipython-input-17-59ce633d02f8>\u001b[0m in \u001b[0;36m<module>\u001b[1;34m\u001b[0m\n\u001b[1;32m----> 1\u001b[1;33m \u001b[0msecond_dict\u001b[0m \u001b[1;33m=\u001b[0m \u001b[1;33m{\u001b[0m\u001b[1;33m[\u001b[0m\u001b[1;36m1\u001b[0m\u001b[1;33m,\u001b[0m\u001b[1;36m2\u001b[0m\u001b[1;33m]\u001b[0m \u001b[1;33m:\u001b[0m \u001b[1;34m\"one\"\u001b[0m\u001b[1;33m,\u001b[0m \u001b[1;34m\"two\"\u001b[0m\u001b[1;33m:\u001b[0m\u001b[1;36m2\u001b[0m\u001b[1;33m,\u001b[0m \u001b[1;32mFalse\u001b[0m\u001b[1;33m:\u001b[0m\u001b[1;33m[\u001b[0m\u001b[1;36m1\u001b[0m\u001b[1;33m,\u001b[0m\u001b[1;36m2\u001b[0m\u001b[1;33m,\u001b[0m\u001b[1;36m3\u001b[0m\u001b[1;33m]\u001b[0m\u001b[1;33m,\u001b[0m\u001b[1;36m1.5\u001b[0m\u001b[1;33m:\u001b[0m\u001b[1;33m(\u001b[0m\u001b[1;34m\"one\"\u001b[0m\u001b[1;33m,\u001b[0m\u001b[1;34m\"two\"\u001b[0m\u001b[1;33m)\u001b[0m\u001b[1;33m,\u001b[0m \u001b[1;33m(\u001b[0m\u001b[1;36m1\u001b[0m\u001b[1;33m,\u001b[0m\u001b[1;36m2\u001b[0m\u001b[1;33m)\u001b[0m\u001b[1;33m:\u001b[0m\u001b[1;34m\"clrswy\"\u001b[0m\u001b[1;33m}\u001b[0m\u001b[1;33m\u001b[0m\u001b[1;33m\u001b[0m\u001b[0m\n\u001b[0m\u001b[0;32m      2\u001b[0m \u001b[0msecond_dict\u001b[0m\u001b[1;33m\u001b[0m\u001b[1;33m\u001b[0m\u001b[0m\n",
      "\u001b[1;31mTypeError\u001b[0m: unhashable type: 'list'"
     ]
    }
   ],
   "source": [
    "second_dict = {[1,2] : \"one\", \"two\":2, False:[1,2,3],1.5:(\"one\",\"two\"), (1,2):\"clrswy\"}  # listelerle dict oluşturulamaz \n",
    "second_dict"
   ]
  },
  {
   "cell_type": "code",
   "execution_count": 19,
   "id": "8fedee8e",
   "metadata": {},
   "outputs": [
    {
     "ename": "TypeError",
     "evalue": "unhashable type: 'dict'",
     "output_type": "error",
     "traceback": [
      "\u001b[1;31m---------------------------------------------------------------------------\u001b[0m",
      "\u001b[1;31mTypeError\u001b[0m                                 Traceback (most recent call last)",
      "\u001b[1;32m<ipython-input-19-d6ee8085a2bd>\u001b[0m in \u001b[0;36m<module>\u001b[1;34m\u001b[0m\n\u001b[1;32m----> 1\u001b[1;33m \u001b[0mthird_dict\u001b[0m \u001b[1;33m=\u001b[0m \u001b[1;33m{\u001b[0m\u001b[1;33m{\u001b[0m\u001b[1;36m1\u001b[0m\u001b[1;33m:\u001b[0m\u001b[1;36m2\u001b[0m\u001b[1;33m}\u001b[0m \u001b[1;33m:\u001b[0m \u001b[1;34m\"one\"\u001b[0m\u001b[1;33m,\u001b[0m \u001b[1;34m\"two\"\u001b[0m\u001b[1;33m:\u001b[0m\u001b[1;36m2\u001b[0m\u001b[1;33m,\u001b[0m \u001b[1;32mFalse\u001b[0m\u001b[1;33m:\u001b[0m\u001b[1;33m[\u001b[0m\u001b[1;36m1\u001b[0m\u001b[1;33m,\u001b[0m\u001b[1;36m2\u001b[0m\u001b[1;33m,\u001b[0m\u001b[1;36m3\u001b[0m\u001b[1;33m]\u001b[0m\u001b[1;33m,\u001b[0m\u001b[1;36m1.5\u001b[0m\u001b[1;33m:\u001b[0m\u001b[1;33m(\u001b[0m\u001b[1;34m\"one\"\u001b[0m\u001b[1;33m,\u001b[0m\u001b[1;34m\"two\"\u001b[0m\u001b[1;33m)\u001b[0m\u001b[1;33m,\u001b[0m \u001b[1;33m(\u001b[0m\u001b[1;36m1\u001b[0m\u001b[1;33m,\u001b[0m\u001b[1;36m2\u001b[0m\u001b[1;33m)\u001b[0m\u001b[1;33m:\u001b[0m\u001b[1;34m\"clrswy\"\u001b[0m\u001b[1;33m}\u001b[0m\u001b[1;33m\u001b[0m\u001b[1;33m\u001b[0m\u001b[0m\n\u001b[0m\u001b[0;32m      2\u001b[0m \u001b[0mthird_dict\u001b[0m\u001b[1;33m\u001b[0m\u001b[1;33m\u001b[0m\u001b[0m\n",
      "\u001b[1;31mTypeError\u001b[0m: unhashable type: 'dict'"
     ]
    }
   ],
   "source": [
    "third_dict = {{1:2} : \"one\", \"two\":2, False:[1,2,3],1.5:(\"one\",\"two\"), (1,2):\"clrswy\"}  # dict ler de dict in içinde olamaz\n",
    "third_dict"
   ]
  },
  {
   "cell_type": "code",
   "execution_count": 20,
   "id": "38e049d1",
   "metadata": {},
   "outputs": [
    {
     "ename": "SyntaxError",
     "evalue": "expression cannot contain assignment, perhaps you meant \"==\"? (<ipython-input-20-a23ea9010611>, line 1)",
     "output_type": "error",
     "traceback": [
      "\u001b[1;36m  File \u001b[1;32m\"<ipython-input-20-a23ea9010611>\"\u001b[1;36m, line \u001b[1;32m1\u001b[0m\n\u001b[1;33m    dict(1 = \"bir\")\u001b[0m\n\u001b[1;37m         ^\u001b[0m\n\u001b[1;31mSyntaxError\u001b[0m\u001b[1;31m:\u001b[0m expression cannot contain assignment, perhaps you meant \"==\"?\n"
     ]
    }
   ],
   "source": [
    "dict(1 = \"bir\")"
   ]
  },
  {
   "cell_type": "code",
   "execution_count": 21,
   "id": "1fff477f",
   "metadata": {},
   "outputs": [
    {
     "data": {
      "text/plain": [
       "{1: 'bir'}"
      ]
     },
     "execution_count": 21,
     "metadata": {},
     "output_type": "execute_result"
    }
   ],
   "source": [
    "{1 : \"bir\"}"
   ]
  },
  {
   "cell_type": "code",
   "execution_count": 23,
   "id": "6e0f06f8",
   "metadata": {},
   "outputs": [
    {
     "data": {
      "text/plain": [
       "{'isim': 'ali'}"
      ]
     },
     "execution_count": 23,
     "metadata": {},
     "output_type": "execute_result"
    }
   ],
   "source": [
    "dict(isim = \"ali\")"
   ]
  },
  {
   "cell_type": "code",
   "execution_count": 24,
   "id": "7b228b6e",
   "metadata": {},
   "outputs": [
    {
     "ename": "SyntaxError",
     "evalue": "keyword argument repeated (<ipython-input-24-9a6df282656f>, line 1)",
     "output_type": "error",
     "traceback": [
      "\u001b[1;36m  File \u001b[1;32m\"<ipython-input-24-9a6df282656f>\"\u001b[1;36m, line \u001b[1;32m1\u001b[0m\n\u001b[1;33m    dict(isim = \"ali\", isim = \"deli\")\u001b[0m\n\u001b[1;37m                       ^\u001b[0m\n\u001b[1;31mSyntaxError\u001b[0m\u001b[1;31m:\u001b[0m keyword argument repeated\n"
     ]
    }
   ],
   "source": [
    "dict(isim = \"ali\", isim = \"deli\")"
   ]
  },
  {
   "cell_type": "code",
   "execution_count": 25,
   "id": "55f2c8f6",
   "metadata": {},
   "outputs": [
    {
     "data": {
      "text/plain": [
       "{'sayılar': [1, 2, 3], 'harfler': {1: 'bir'}}"
      ]
     },
     "execution_count": 25,
     "metadata": {},
     "output_type": "execute_result"
    }
   ],
   "source": [
    "dict(sayılar = [1,2,3], harfler = {1:\"bir\"})  # tanımladığımız value her tipte oluyor ancak key liste ve dict olamıyor"
   ]
  },
  {
   "cell_type": "code",
   "execution_count": 28,
   "id": "8b68b886",
   "metadata": {},
   "outputs": [],
   "source": [
    "family = {\"name1\":\"ali\", \n",
    "          \"name2\":\"veli\", \n",
    "          \"name3\":\"deli\"}"
   ]
  },
  {
   "cell_type": "code",
   "execution_count": 34,
   "id": "0a9dd2b8",
   "metadata": {},
   "outputs": [
    {
     "data": {
      "text/plain": [
       "{'name1': 'ali', 'name2': 'veli', 'name3': 'deli', 'name4': 'keli'}"
      ]
     },
     "execution_count": 34,
     "metadata": {},
     "output_type": "execute_result"
    }
   ],
   "source": [
    "family"
   ]
  },
  {
   "cell_type": "code",
   "execution_count": 29,
   "id": "09e53d8c",
   "metadata": {},
   "outputs": [],
   "source": [
    "family[\"name4\"] = \"keli\""
   ]
  },
  {
   "cell_type": "code",
   "execution_count": 31,
   "id": "366b2bcb",
   "metadata": {},
   "outputs": [
    {
     "name": "stdout",
     "output_type": "stream",
     "text": [
      "{'name1': 'ali', 'name2': 'veli', 'name3': 'deli', 'name4': 'keli'}\n"
     ]
    }
   ],
   "source": [
    "print(family)"
   ]
  },
  {
   "cell_type": "code",
   "execution_count": 33,
   "id": "d4b20cf7",
   "metadata": {},
   "outputs": [
    {
     "data": {
      "text/plain": [
       "{'animal': 'dog',\n",
       " 'planet': 'neptun',\n",
       " 'number': 40,\n",
       " 'pi': 3.14,\n",
       " 'is_good': True}"
      ]
     },
     "execution_count": 33,
     "metadata": {},
     "output_type": "execute_result"
    }
   ],
   "source": [
    "dict_by_dict = dict(animal='dog', planet='neptun', number=40, pi=3.14, is_good=True)\n",
    "dict_by_dict"
   ]
  },
  {
   "cell_type": "code",
   "execution_count": 35,
   "id": "d2938dd6",
   "metadata": {},
   "outputs": [
    {
     "data": {
      "text/plain": [
       "'one'"
      ]
     },
     "execution_count": 35,
     "metadata": {},
     "output_type": "execute_result"
    }
   ],
   "source": [
    "bir = \"one\"\n",
    "bir"
   ]
  },
  {
   "cell_type": "code",
   "execution_count": 36,
   "id": "b71ffe15",
   "metadata": {},
   "outputs": [],
   "source": [
    "xx = dict(bir = \"one\", iki = \"two\")"
   ]
  },
  {
   "cell_type": "code",
   "execution_count": 37,
   "id": "8ba857e0",
   "metadata": {},
   "outputs": [
    {
     "data": {
      "text/plain": [
       "'one'"
      ]
     },
     "execution_count": 37,
     "metadata": {},
     "output_type": "execute_result"
    }
   ],
   "source": [
    "xx[\"bir\"]"
   ]
  },
  {
   "cell_type": "code",
   "execution_count": 38,
   "id": "cc7abdea",
   "metadata": {},
   "outputs": [
    {
     "data": {
      "text/plain": [
       "str"
      ]
     },
     "execution_count": 38,
     "metadata": {},
     "output_type": "execute_result"
    }
   ],
   "source": [
    "type(xx[\"bir\"])"
   ]
  },
  {
   "cell_type": "code",
   "execution_count": 40,
   "id": "759dc529",
   "metadata": {},
   "outputs": [
    {
     "data": {
      "text/plain": [
       "{1: 'istanbul', 'yasemin': 'bayan', 'nüfusum': 1000, 'hava_yağmurlu_mu': False}"
      ]
     },
     "execution_count": 40,
     "metadata": {},
     "output_type": "execute_result"
    }
   ],
   "source": [
    "sehir = \"istanbul\"\n",
    "isim = \"yasemin\"\n",
    "nüfus = 1000\n",
    "yağmurlumu = False\n",
    "benim = {1 : sehir, isim : \"bayan\", \"nüfusum\" : nüfus, \"hava_yağmurlu_mu\" : False}  # değişkenleri dict içine atayabiliriz\n",
    "benim"
   ]
  },
  {
   "cell_type": "code",
   "execution_count": 41,
   "id": "3e5294f4",
   "metadata": {},
   "outputs": [
    {
     "data": {
      "text/plain": [
       "'istanbul'"
      ]
     },
     "execution_count": 41,
     "metadata": {},
     "output_type": "execute_result"
    }
   ],
   "source": [
    "benim[1]"
   ]
  },
  {
   "cell_type": "code",
   "execution_count": 43,
   "id": "66879c65",
   "metadata": {},
   "outputs": [
    {
     "data": {
      "text/plain": [
       "'bayan'"
      ]
     },
     "execution_count": 43,
     "metadata": {},
     "output_type": "execute_result"
    }
   ],
   "source": [
    "benim[\"yasemin\"]"
   ]
  },
  {
   "cell_type": "code",
   "execution_count": 44,
   "id": "93614bbd",
   "metadata": {},
   "outputs": [
    {
     "data": {
      "text/plain": [
       "1000"
      ]
     },
     "execution_count": 44,
     "metadata": {},
     "output_type": "execute_result"
    }
   ],
   "source": [
    "benim[\"nüfusum\"]"
   ]
  },
  {
   "cell_type": "code",
   "execution_count": 45,
   "id": "d8cbd2d8",
   "metadata": {},
   "outputs": [
    {
     "data": {
      "text/plain": [
       "'bayan'"
      ]
     },
     "execution_count": 45,
     "metadata": {},
     "output_type": "execute_result"
    }
   ],
   "source": [
    "benim[isim]"
   ]
  },
  {
   "cell_type": "code",
   "execution_count": 46,
   "id": "5f9ad7ec",
   "metadata": {},
   "outputs": [
    {
     "data": {
      "text/plain": [
       "{'name1': 'ali', 'name2': 'veli', 'name3': 'deli'}"
      ]
     },
     "execution_count": 46,
     "metadata": {},
     "output_type": "execute_result"
    }
   ],
   "source": [
    "family = dict(name1 = \"ali\", name2 = \"veli\", name3 = \"deli\")\n",
    "family"
   ]
  },
  {
   "cell_type": "code",
   "execution_count": 48,
   "id": "8fe568f5",
   "metadata": {},
   "outputs": [],
   "source": [
    "benim.update({\"a\" : 1, \"b\" : 2})"
   ]
  },
  {
   "cell_type": "code",
   "execution_count": 49,
   "id": "a68357f5",
   "metadata": {},
   "outputs": [
    {
     "data": {
      "text/plain": [
       "{1: 'istanbul',\n",
       " 'yasemin': 'bayan',\n",
       " 'nüfusum': 1000,\n",
       " 'hava_yağmurlu_mu': False,\n",
       " 'a': 1,\n",
       " 'b': 2}"
      ]
     },
     "execution_count": 49,
     "metadata": {},
     "output_type": "execute_result"
    }
   ],
   "source": [
    "benim"
   ]
  },
  {
   "cell_type": "markdown",
   "id": "aa0d1527",
   "metadata": {},
   "source": [
    "# The most frequent element"
   ]
  },
  {
   "cell_type": "code",
   "execution_count": 50,
   "id": "703184b4",
   "metadata": {},
   "outputs": [
    {
     "data": {
      "text/plain": [
       "5"
      ]
     },
     "execution_count": 50,
     "metadata": {},
     "output_type": "execute_result"
    }
   ],
   "source": [
    "max(2,3,5)"
   ]
  },
  {
   "cell_type": "code",
   "execution_count": 51,
   "id": "caeee053",
   "metadata": {},
   "outputs": [
    {
     "data": {
      "text/plain": [
       "'boş'"
      ]
     },
     "execution_count": 51,
     "metadata": {},
     "output_type": "execute_result"
    }
   ],
   "source": [
    "empty = []  # boş bir iterible olursa yanına ne yazarsan onu döndürür\n",
    "max(empty, default=\"boş\")"
   ]
  },
  {
   "cell_type": "code",
   "execution_count": 52,
   "id": "12a4d8f0",
   "metadata": {},
   "outputs": [
    {
     "data": {
      "text/plain": [
       "111"
      ]
     },
     "execution_count": 52,
     "metadata": {},
     "output_type": "execute_result"
    }
   ],
   "source": [
    "max(empty, default=111)"
   ]
  },
  {
   "cell_type": "code",
   "execution_count": 53,
   "id": "e6a80a0e",
   "metadata": {},
   "outputs": [
    {
     "data": {
      "text/plain": [
       "[1, 1, 1, 1, 2, 2, 2, 3, 3, 4]"
      ]
     },
     "execution_count": 53,
     "metadata": {},
     "output_type": "execute_result"
    }
   ],
   "source": [
    "sequense = [1, 1, 1, 1, 2, 2, 2, 3, 3, 4]\n",
    "sequense"
   ]
  },
  {
   "cell_type": "code",
   "execution_count": 54,
   "id": "99f0787c",
   "metadata": {},
   "outputs": [
    {
     "data": {
      "text/plain": [
       "4"
      ]
     },
     "execution_count": 54,
     "metadata": {},
     "output_type": "execute_result"
    }
   ],
   "source": [
    "max(sequense)"
   ]
  },
  {
   "cell_type": "code",
   "execution_count": 55,
   "id": "21839657",
   "metadata": {},
   "outputs": [
    {
     "data": {
      "text/plain": [
       "1"
      ]
     },
     "execution_count": 55,
     "metadata": {},
     "output_type": "execute_result"
    }
   ],
   "source": [
    "sequense.count(4)"
   ]
  },
  {
   "cell_type": "code",
   "execution_count": 56,
   "id": "0ace5b36",
   "metadata": {},
   "outputs": [
    {
     "data": {
      "text/plain": [
       "2"
      ]
     },
     "execution_count": 56,
     "metadata": {},
     "output_type": "execute_result"
    }
   ],
   "source": [
    "sequense.count(3)"
   ]
  },
  {
   "cell_type": "code",
   "execution_count": 57,
   "id": "ec5655a5",
   "metadata": {},
   "outputs": [
    {
     "data": {
      "text/plain": [
       "3"
      ]
     },
     "execution_count": 57,
     "metadata": {},
     "output_type": "execute_result"
    }
   ],
   "source": [
    "sequense.count(2)"
   ]
  },
  {
   "cell_type": "code",
   "execution_count": 66,
   "id": "ea5a4548",
   "metadata": {},
   "outputs": [
    {
     "data": {
      "text/plain": [
       "[-1, 3, 7, 4, 3, 0, 3, 16, 3, 7, 0, 0, 1]"
      ]
     },
     "execution_count": 66,
     "metadata": {},
     "output_type": "execute_result"
    }
   ],
   "source": [
    "numbers = [-1, 3, 7, 4, 3, 0, 3, 16, 3, 7, 0, 0, 1]\n",
    "numbers"
   ]
  },
  {
   "cell_type": "code",
   "execution_count": 67,
   "id": "eaf553bb",
   "metadata": {},
   "outputs": [
    {
     "data": {
      "text/plain": [
       "3"
      ]
     },
     "execution_count": 67,
     "metadata": {},
     "output_type": "execute_result"
    }
   ],
   "source": [
    "max(numbers, key = numbers.count)  # max ı neye göre belirlediğimizi biz belirleyebiliriz"
   ]
  },
  {
   "cell_type": "code",
   "execution_count": 76,
   "id": "598a2419",
   "metadata": {},
   "outputs": [
    {
     "data": {
      "text/plain": [
       "['van', 'ağrı', 'ankara', 'istanbul']"
      ]
     },
     "execution_count": 76,
     "metadata": {},
     "output_type": "execute_result"
    }
   ],
   "source": [
    "sehirler = [\"istanbul\", \"ağrı\", \"ankara\", \"van\"]\n",
    "sorted(sehirler, key = len)"
   ]
  },
  {
   "cell_type": "code",
   "execution_count": 77,
   "id": "ec32296a",
   "metadata": {},
   "outputs": [
    {
     "data": {
      "text/plain": [
       "['istanbul', 'ankara', 'ağrı', 'van']"
      ]
     },
     "execution_count": 77,
     "metadata": {},
     "output_type": "execute_result"
    }
   ],
   "source": [
    "sorted(sehirler, key = len, reverse = True)"
   ]
  },
  {
   "cell_type": "code",
   "execution_count": null,
   "id": "5930893f",
   "metadata": {},
   "outputs": [],
   "source": []
  }
 ],
 "metadata": {
  "kernelspec": {
   "display_name": "Python 3",
   "language": "python",
   "name": "python3"
  },
  "language_info": {
   "codemirror_mode": {
    "name": "ipython",
    "version": 3
   },
   "file_extension": ".py",
   "mimetype": "text/x-python",
   "name": "python",
   "nbconvert_exporter": "python",
   "pygments_lexer": "ipython3",
   "version": "3.8.8"
  }
 },
 "nbformat": 4,
 "nbformat_minor": 5
}
