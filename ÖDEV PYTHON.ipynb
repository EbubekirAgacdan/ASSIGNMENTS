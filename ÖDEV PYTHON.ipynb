{
 "cells": [
  {
   "cell_type": "code",
   "execution_count": null,
   "id": "185c8552",
   "metadata": {},
   "outputs": [],
   "source": [
    "i = 5\n",
    "while True :\n",
    "    if i%0xe == 0 :\n",
    "        "
   ]
  },
  {
   "cell_type": "code",
   "execution_count": 3,
   "id": "40d272a9",
   "metadata": {},
   "outputs": [
    {
     "name": "stdout",
     "output_type": "stream",
     "text": [
      "abcd\n",
      "abcd\n",
      "abcd\n",
      "abcd\n"
     ]
    }
   ],
   "source": [
    "x = \"abcd\"\n",
    "for i in range(len(x)) :\n",
    "    x[i].upper()\n",
    "    print(x)"
   ]
  },
  {
   "cell_type": "code",
   "execution_count": 5,
   "id": "a39797ba",
   "metadata": {},
   "outputs": [
    {
     "data": {
      "text/plain": [
       "[3, 2, 1]"
      ]
     },
     "execution_count": 5,
     "metadata": {},
     "output_type": "execute_result"
    }
   ],
   "source": [
    "k = [1, 2, 3]\n",
    "list(reversed(k))"
   ]
  },
  {
   "cell_type": "code",
   "execution_count": 7,
   "id": "71ae7bc4",
   "metadata": {},
   "outputs": [
    {
     "name": "stdout",
     "output_type": "stream",
     "text": [
      "please enter name : ebubekir\n",
      "Hello, Ebubekir! The pasword is :  ebu\n"
     ]
    }
   ],
   "source": [
    "name = \"Ebubekir\"\n",
    "pasword = \"ebu\"\n",
    "x = input(\"please enter name : \")\n",
    "if x.title() == name :\n",
    "    print(\"Hello, {}! The pasword is : \".format(name), pasword)\n",
    "else:\n",
    "    print(\"Hello, {}! see you later!\".format(x))"
   ]
  },
  {
   "cell_type": "code",
   "execution_count": null,
   "id": "6bbdd090",
   "metadata": {},
   "outputs": [],
   "source": [
    "age = input(\"Are you a cigarette addict older than 75 years old?\")\n",
    "chornic = input(\"Do you have a severe chronic disease?\")\n",
    "immune = input(\"Is your immune system too weak?\")\n",
    "\n",
    "if age.lower() == \"yes\":\n",
    "    print(\"You are in risky group\")\n",
    "elif chornic.lower() == \"yes\":\n",
    "    print(\"You are in risky group\")\n",
    "elif immune.lower() == \"yes\":\n",
    "    print(\"You are in risky group\")\n",
    "else:\n",
    "    print(\"You are not in risky group\")"
   ]
  }
 ],
 "metadata": {
  "kernelspec": {
   "display_name": "Python 3",
   "language": "python",
   "name": "python3"
  },
  "language_info": {
   "codemirror_mode": {
    "name": "ipython",
    "version": 3
   },
   "file_extension": ".py",
   "mimetype": "text/x-python",
   "name": "python",
   "nbconvert_exporter": "python",
   "pygments_lexer": "ipython3",
   "version": "3.8.8"
  }
 },
 "nbformat": 4,
 "nbformat_minor": 5
}
