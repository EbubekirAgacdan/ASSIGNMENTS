{
 "cells": [
  {
   "cell_type": "code",
   "execution_count": 1,
   "id": "57c50661",
   "metadata": {},
   "outputs": [
    {
     "name": "stdout",
     "output_type": "stream",
     "text": [
      "children deserve respect as much as adults in 2020\n"
     ]
    }
   ],
   "source": [
    "number = 2020\n",
    "text = \"children deserve respect as much as adults in\"\n",
    "print(text,number)"
   ]
  },
  {
   "cell_type": "code",
   "execution_count": 2,
   "id": "9eecb8fc",
   "metadata": {},
   "outputs": [
    {
     "name": "stdout",
     "output_type": "stream",
     "text": [
      "yesterday I ate 2 apples\n"
     ]
    }
   ],
   "source": [
    "print(\"yesterday I ate\", 2, \"apples\")"
   ]
  },
  {
   "cell_type": "code",
   "execution_count": 3,
   "id": "d35a6525",
   "metadata": {},
   "outputs": [
    {
     "name": "stdout",
     "output_type": "stream",
     "text": [
      "\n"
     ]
    }
   ],
   "source": [
    "print()"
   ]
  },
  {
   "cell_type": "code",
   "execution_count": 4,
   "id": "913e5fa5",
   "metadata": {},
   "outputs": [
    {
     "name": "stdout",
     "output_type": "stream",
     "text": [
      "i will say 'i missed you' to my mother "
     ]
    }
   ],
   "source": [
    "print(\"i\", end=' ')\n",
    "print(\"will say\", end=' ')\n",
    "print(\"'i missed you'\", end=' ')\n",
    "print(\"to my mother\", end=' ')"
   ]
  },
  {
   "cell_type": "code",
   "execution_count": 7,
   "id": "38673c00",
   "metadata": {},
   "outputs": [
    {
     "name": "stdout",
     "output_type": "stream",
     "text": [
      "smoking + is + slowly + killing me\n"
     ]
    }
   ],
   "source": [
    "print(\"smoking\", \"is\", \"slowly\", \"killing me\", sep=' + ')"
   ]
  },
  {
   "cell_type": "code",
   "execution_count": 8,
   "id": "bd7ce4ac",
   "metadata": {},
   "outputs": [
    {
     "name": "stdout",
     "output_type": "stream",
     "text": [
      "value of x       :  5\n"
     ]
    }
   ],
   "source": [
    "x = 5\n",
    "print ('value of x       : ', x)\n"
   ]
  },
  {
   "cell_type": "code",
   "execution_count": 9,
   "id": "dfe86b33",
   "metadata": {},
   "outputs": [
    {
     "name": "stdout",
     "output_type": "stream",
     "text": [
      "2 more of x      :  7 \n",
      "\n"
     ]
    }
   ],
   "source": [
    "x += 2\n",
    "print (\"2 more of x      : \", x, \"\\n\") # using string expression '\\n', \n",
    "                                       # we produce extra line. \n",
    "                                       # So that we had empty line."
   ]
  },
  {
   "cell_type": "code",
   "execution_count": 10,
   "id": "00993dc7",
   "metadata": {},
   "outputs": [
    {
     "name": "stdout",
     "output_type": "stream",
     "text": [
      "value of y       :  10\n"
     ]
    }
   ],
   "source": [
    "y = 10\n",
    "print ('value of y       : ', y)"
   ]
  },
  {
   "cell_type": "code",
   "execution_count": 11,
   "id": "ad40198d",
   "metadata": {},
   "outputs": [
    {
     "name": "stdout",
     "output_type": "stream",
     "text": [
      "2 minus y        :  8 \n",
      "\n"
     ]
    }
   ],
   "source": [
    "y -= 2\n",
    "print (\"2 minus y        : \", y, \"\\n\")"
   ]
  },
  {
   "cell_type": "code",
   "execution_count": 12,
   "id": "5692a2a4",
   "metadata": {},
   "outputs": [
    {
     "name": "stdout",
     "output_type": "stream",
     "text": [
      "value of z       :  6\n"
     ]
    }
   ],
   "source": [
    "z = 6\n",
    "print ('value of z       : ', z)"
   ]
  },
  {
   "cell_type": "code",
   "execution_count": 13,
   "id": "53417874",
   "metadata": {},
   "outputs": [
    {
     "name": "stdout",
     "output_type": "stream",
     "text": [
      "2 times z        :  12 \n",
      "\n"
     ]
    }
   ],
   "source": [
    "z *= 2\n",
    "print (\"2 times z        : \", z, \"\\n\")"
   ]
  },
  {
   "cell_type": "code",
   "execution_count": 15,
   "id": "4f8f506a",
   "metadata": {},
   "outputs": [
    {
     "name": "stdout",
     "output_type": "stream",
     "text": [
      "value of x       :  5\n",
      "2 more of x      :  7 \n",
      "\n",
      "value of y       :  10\n",
      "2 minus y        :  8 \n",
      "\n",
      "value of z       :  6\n",
      "2 times z        :  12 \n",
      "\n"
     ]
    }
   ],
   "source": [
    "x = 5\n",
    "print ('value of x       : ', x)\n",
    "\n",
    "x += 2\n",
    "print (\"2 more of x      : \", x, \"\\n\") # using string expression '\\n', \n",
    "                                       # we produce extra line. \n",
    "                                       # So that we had empty line.\n",
    "y = 10\n",
    "print ('value of y       : ', y)\n",
    "\n",
    "y -= 2\n",
    "print (\"2 minus y        : \", y, \"\\n\")  #boşluk bırakmak için \"\\n\" fonksiyonunu kullanıyaruz..\n",
    "\n",
    "z = 6\n",
    "print ('value of z       : ', z)\n",
    "\n",
    "z *= 2\n",
    "print (\"2 times z        : \", z, \"\\n\")"
   ]
  },
  {
   "cell_type": "code",
   "execution_count": 21,
   "id": "2291186c",
   "metadata": {},
   "outputs": [
    {
     "name": "stdout",
     "output_type": "stream",
     "text": [
      "<class 'str'>\n",
      "<class 'float'>\n",
      "<class 'int'>\n"
     ]
    }
   ],
   "source": [
    "print(type(\"hello\"), type(3.14), type(74), sep=\"\\n\")"
   ]
  },
  {
   "cell_type": "code",
   "execution_count": 24,
   "id": "3552a23e",
   "metadata": {},
   "outputs": [
    {
     "name": "stdout",
     "output_type": "stream",
     "text": [
      "C:\\november\n",
      "umber_expenditure.txt\n"
     ]
    }
   ],
   "source": [
    "print('C:\\\\november\\number_expenditure.txt')"
   ]
  },
  {
   "cell_type": "code",
   "execution_count": 25,
   "id": "76ac0442",
   "metadata": {},
   "outputs": [
    {
     "name": "stdout",
     "output_type": "stream",
     "text": [
      "one\ttwo\tthree\n"
     ]
    }
   ],
   "source": [
    "print(\"one\", \"two\", \"three\", sep=\"\\t\") # separated by tab marks"
   ]
  },
  {
   "cell_type": "code",
   "execution_count": 26,
   "id": "8a263db9",
   "metadata": {},
   "outputs": [
    {
     "name": "stdout",
     "output_type": "stream",
     "text": [
      "we \bare \bunited\n"
     ]
    }
   ],
   "source": [
    "print('we', '\\bare', '\\bunited') # remember, normally print() function\n",
    "# separates expressions by spaces"
   ]
  },
  {
   "cell_type": "code",
   "execution_count": 31,
   "id": "a567a9b2",
   "metadata": {},
   "outputs": [
    {
     "name": "stdout",
     "output_type": "stream",
     "text": [
      "it's funny to learn Python\n"
     ]
    }
   ],
   "source": [
    "print('it\\'s funny to learn Python') "
   ]
  },
  {
   "cell_type": "code",
   "execution_count": 35,
   "id": "8f79a9fa",
   "metadata": {},
   "outputs": [
    {
     "name": "stdout",
     "output_type": "stream",
     "text": [
      "it's very easy\n"
     ]
    }
   ],
   "source": [
    "text1 = 'it'\n",
    "text2 = 'easy'\n",
    "print(text1 + '\\'s very ' + text2)"
   ]
  },
  {
   "cell_type": "code",
   "execution_count": 36,
   "id": "7aeaf122",
   "metadata": {},
   "outputs": [
    {
     "name": "stdout",
     "output_type": "stream",
     "text": [
      "True\n"
     ]
    }
   ],
   "source": [
    "logic = True and False or not False or False\n",
    "print(logic)"
   ]
  },
  {
   "cell_type": "code",
   "execution_count": 40,
   "id": "228b1dd2",
   "metadata": {},
   "outputs": [
    {
     "name": "stdout",
     "output_type": "stream",
     "text": [
      "3\n"
     ]
    }
   ],
   "source": [
    "print(2 and 3)"
   ]
  },
  {
   "cell_type": "code",
   "execution_count": 41,
   "id": "1f7f1ad8",
   "metadata": {},
   "outputs": [
    {
     "name": "stdout",
     "output_type": "stream",
     "text": [
      "0\n"
     ]
    }
   ],
   "source": [
    "print(1 and 0)"
   ]
  },
  {
   "cell_type": "code",
   "execution_count": 42,
   "id": "2b9fc10d",
   "metadata": {},
   "outputs": [
    {
     "name": "stdout",
     "output_type": "stream",
     "text": [
      "I am doing good!\n"
     ]
    }
   ],
   "source": [
    "print(1 and \"I am doing good!\")"
   ]
  },
  {
   "cell_type": "code",
   "execution_count": 43,
   "id": "2abf5924",
   "metadata": {},
   "outputs": [
    {
     "name": "stdout",
     "output_type": "stream",
     "text": [
      "[]\n"
     ]
    }
   ],
   "source": [
    "print([] and \"Hello World!\")"
   ]
  },
  {
   "cell_type": "code",
   "execution_count": 44,
   "id": "beff787e",
   "metadata": {},
   "outputs": [
    {
     "name": "stdout",
     "output_type": "stream",
     "text": [
      "2\n"
     ]
    }
   ],
   "source": [
    "print(2 or 3)"
   ]
  },
  {
   "cell_type": "code",
   "execution_count": 45,
   "id": "d1738bfd",
   "metadata": {},
   "outputs": [
    {
     "name": "stdout",
     "output_type": "stream",
     "text": [
      "1\n"
     ]
    }
   ],
   "source": [
    "print(None or 1)"
   ]
  },
  {
   "cell_type": "code",
   "execution_count": 46,
   "id": "66e44711",
   "metadata": {},
   "outputs": [
    {
     "name": "stdout",
     "output_type": "stream",
     "text": [
      "{}\n"
     ]
    }
   ],
   "source": [
    "print(0 or {})"
   ]
  },
  {
   "cell_type": "code",
   "execution_count": 47,
   "id": "da82c8b1",
   "metadata": {},
   "outputs": [
    {
     "name": "stdout",
     "output_type": "stream",
     "text": [
      "Hello World!\n"
     ]
    }
   ],
   "source": [
    "print([] or \"Hello World!\")"
   ]
  },
  {
   "cell_type": "code",
   "execution_count": 48,
   "id": "1ac8fcc1",
   "metadata": {},
   "outputs": [
    {
     "data": {
      "text/plain": [
       "True"
      ]
     },
     "execution_count": 48,
     "metadata": {},
     "output_type": "execute_result"
    }
   ],
   "source": [
    "not None or [2, False] and {}"
   ]
  },
  {
   "cell_type": "code",
   "execution_count": null,
   "id": "491dde9a",
   "metadata": {},
   "outputs": [],
   "source": []
  }
 ],
 "metadata": {
  "kernelspec": {
   "display_name": "Python 3",
   "language": "python",
   "name": "python3"
  },
  "language_info": {
   "codemirror_mode": {
    "name": "ipython",
    "version": 3
   },
   "file_extension": ".py",
   "mimetype": "text/x-python",
   "name": "python",
   "nbconvert_exporter": "python",
   "pygments_lexer": "ipython3",
   "version": "3.8.8"
  }
 },
 "nbformat": 4,
 "nbformat_minor": 5
}
